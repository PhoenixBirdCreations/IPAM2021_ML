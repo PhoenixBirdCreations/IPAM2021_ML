{
 "cells": [
  {
   "cell_type": "code",
   "execution_count": 1,
   "metadata": {},
   "outputs": [],
   "source": [
    "import numpy as np"
   ]
  },
  {
   "cell_type": "code",
   "execution_count": 2,
   "metadata": {},
   "outputs": [],
   "source": [
    "#PREPARING DATA FOR REGRESSION\n",
    "#We have some fake (fake) random data representing the properties of the binary\n",
    "#We relate the quantities in a complicated way that represents the unknown error introduced by GSTLAL\n",
    "#We want to recover the initial quantities, as the ML algorithm should be able to guess this complicated relation function\n",
    "\n",
    "np.random.seed(21) #fix random seed so we can reproduce results\n",
    "\n",
    "#Prepare example dataset:\n",
    "Nsample=3 #number of data points\n",
    "dsample=7 #dimension of the data point DONT CHANGE\n",
    "    #Example: we have Nsample injections, each of them with dsample parameters estimated\n",
    "#We will simulate two random masses between 1.1 and 2.1, their two random magnitudes of the spin between 0 and 1, and a random angle between them, from 0 to pi\n",
    "y=np.zeros((Nsample,dsample))\n",
    "for i in range (0,Nsample):\n",
    "    y[i][0:2]=1.1+ np.random.random_sample((1,2)) \n",
    "    maxm=np.maximum(y[i][0],y[i][1])\n",
    "    minm=np.minimum(y[i][0],y[i][1])\n",
    "    y[i][0]=maxm\n",
    "    y[i][1]=minm\n",
    "    y[i][2:4]=np.random.random_sample((1,2)) \n",
    "    y[i][4]=np.pi*np.random.random_sample((1,1)) \n",
    "    y[i][5]=y[i][0]/y[i][1]  #added mass ratio!\n",
    "    y[i][6]=(y[i][0]*y[i][1])**(3.0/5)/(y[i][0]+y[i][1])**(1.0/5)    #added chirp mass!"
   ]
  },
  {
   "cell_type": "code",
   "execution_count": 3,
   "metadata": {},
   "outputs": [],
   "source": [
    "#this emulates the nonlinear effects introduced by the GSTLAL pipeline\n",
    "def complicated_f(vector):\n",
    "    x=vector[0]; y=vector[1]; z=vector[2]; w=vector[3]; v=vector[4]; a=vector[5]; b=vector[6]\n",
    "        return [x*z+w**2-v/np.sqrt(y)+(1-a)/(b+3), y**3*(a+np.pi*w)/(1+v+3*z), np.sqrt((x-v)**2+(b-w)**2+(z-x)**2), np.sqrt(x+a)/(2*y**2*z+1)+v/(4*y*z*np.sqrt(np.abs(v-b))+2)-w,np.sin(x+y)+(a-z)*w/(z+w+v),(a**2+(b-y)+x/3)*(z*np.sqrt(w)-v),b]"
   ]
  },
  {
   "cell_type": "code",
   "execution_count": 4,
   "metadata": {},
   "outputs": [],
   "source": [
    "#We prepare the results \"from the pipeline\"\n",
    "errorpct=0.05  #noise percentage to introduce\n",
    "x=np.zeros((Nsample,dsample));\n",
    "for i in range (0,Nsample):\n",
    "    x[i]=complicated_f(y[i])\n",
    "    for j in range(0, dsample): #plus some random error up to specified % of the value\n",
    "        x[i][j]=x[i][j]+x[i][j]*(-1)**np.random.randint(1,3)*errorpct*np.random.rand()"
   ]
  },
  {
   "cell_type": "code",
   "execution_count": 5,
   "metadata": {},
   "outputs": [],
   "source": [
    "#NEW!: dataset only with only mass1 and the chirp mass\n",
    "y_nomass2=np.delete(y,1,1) #delete m2 column from datasets\n",
    "x_nomass2=np.delete(x,1,1)\n",
    "#Then train the ML with data x and tag y, to see if it can discover the complicated function relating the quantities\n"
   ]
  },
  {
   "cell_type": "code",
   "execution_count": null,
   "metadata": {},
   "outputs": [],
   "source": [
    "#Create a test case to see how your trained ML performs\n",
    "ytest=np.zeros(dsample)\n",
    "ytest[0:2]=1.1+ np.random.random_sample((1,2))\n",
    "maxm=np.maximum(ytest[0],ytest[1])\n",
    "minm=np.minimum(ytest[0],ytest[1])\n",
    "ytest[0]=maxm\n",
    "ytest[1]=minm\n",
    "ytest[2:4]=np.random.random_sample((1,2)) \n",
    "ytest[4]=np.pi*np.random.random_sample((1,1)) \n",
    "ytest[5]=ytest[0]/ytest[1]  #added mass ratio!\n",
    "ytest[6]=(ytest[0]*ytest[1])**(3.0/5)/(ytest[0]+ytest[1])**(1.0/5)\n",
    "\n",
    "xtest_nomass2=np.delete(ytest,1,1)\n",
    "\n",
    "xtest_nomass2=complicated_f(ytest)\n",
    "print('introduced',xtest_nomass2)\n",
    "print('to be recovered',ytest)"
   ]
  },
  {
   "cell_type": "code",
   "execution_count": null,
   "metadata": {},
   "outputs": [],
   "source": [
    "#Evaluate your ML\n",
    "#yresult=ml.test(xtest_nomass2)    #usually to evaluate we use method.test or something similar. Look at the documentation of your function   \n",
    "print('recovered',yresult) \n",
    "#are the results good?\n",
    "#Do you want more testing cases for stadistics? Genererate another data set like the training one"
   ]
  }
 ],
 "metadata": {
  "kernelspec": {
   "display_name": "Python 3",
   "language": "python",
   "name": "python3"
  },
  "language_info": {
   "codemirror_mode": {
    "name": "ipython",
    "version": 3
   },
   "file_extension": ".py",
   "mimetype": "text/x-python",
   "name": "python",
   "nbconvert_exporter": "python",
   "pygments_lexer": "ipython3",
   "version": "3.6.7"
  }
 },
 "nbformat": 4,
 "nbformat_minor": 5
}
