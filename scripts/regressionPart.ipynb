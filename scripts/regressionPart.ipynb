{
 "cells": [
  {
   "cell_type": "code",
   "execution_count": 7,
   "id": "260172a5-2489-4ae2-8f04-e514cb15aa66",
   "metadata": {},
   "outputs": [],
   "source": [
    "import csv\n",
    "import numpy as np"
   ]
  },
  {
   "cell_type": "code",
   "execution_count": 15,
   "id": "56f877c2-2b18-4cea-b56b-458ab02df3b0",
   "metadata": {},
   "outputs": [],
   "source": [
    "def extractData(filename):\n",
    "    lst=[]\n",
    "    with open(filename) as csv_file:\n",
    "        csv_reader = csv.reader(csv_file, delimiter=',')\n",
    "        for row in csv_reader:\n",
    "            lst.append(row)\n",
    "    data=np.array(lst, dtype=float)\n",
    "    return data\n",
    "\n",
    "def writeResult(filename, data):\n",
    "    with open(filename, 'w') as csvfile:\n",
    "        spamwriter = csv.writer(csvfile, delimiter=',')\n",
    "        for row in data:\n",
    "            spamwriter.writerow(row)"
   ]
  },
  {
   "cell_type": "code",
   "execution_count": 12,
   "id": "00035702-f7c2-43e6-b736-23d11fb6eff7",
   "metadata": {},
   "outputs": [],
   "source": [
    "#Do this for every set and version of the csv available\n",
    "xtrain = extractData('set1_v0_x.csv')\n",
    "ytrain = extractData('set1_v0_y.csv')\n",
    "xtest = extractData('predict_v0.csv')\n",
    "#train your algorithm here.\n",
    "#then test the xtest and put the results in an array\n",
    "writeResult('method_set1_v0.csv',your_results) #put the name of your method (nn, svr, gpr), and change the set that you use and the version v0,v1,v2"
   ]
  },
  {
   "cell_type": "code",
   "execution_count": 16,
   "id": "20df531f-4f34-41d8-88d2-68fcc26a653f",
   "metadata": {},
   "outputs": [],
   "source": [
    "#Now you can analize your results to see the accuracy however you want"
   ]
  }
 ],
 "metadata": {
  "kernelspec": {
   "display_name": "Python 3",
   "language": "python",
   "name": "python3"
  },
  "language_info": {
   "codemirror_mode": {
    "name": "ipython",
    "version": 3
   },
   "file_extension": ".py",
   "mimetype": "text/x-python",
   "name": "python",
   "nbconvert_exporter": "python",
   "pygments_lexer": "ipython3",
   "version": "3.7.8"
  }
 },
 "nbformat": 4,
 "nbformat_minor": 5
}
