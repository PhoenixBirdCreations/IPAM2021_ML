{
 "cells": [
  {
   "cell_type": "code",
   "execution_count": 3,
   "id": "1df8dab7-ce29-47be-b6bf-26591e7fc1b2",
   "metadata": {},
   "outputs": [],
   "source": [
    "import numpy as np\n",
    "import matplotlib.pyplot as plt"
   ]
  },
  {
   "cell_type": "code",
   "execution_count": 120,
   "id": "c7cd8409-684c-4e00-a425-499b059b3dab",
   "metadata": {},
   "outputs": [],
   "source": [
    "#Generate dataset\n",
    "Nsample=1000 #number of data points\n",
    "dsample=6 #dimension of the data point DONT CHANGE\n",
    "\n",
    "y=np.zeros((Nsample,dsample))\n",
    "for i in range (0,Nsample):\n",
    "    s=np.random.randint(0,2)\n",
    "    m1=3+np.random.rand()*(s*2.0+(s-1)*2.0)\n",
    "    m2=3+np.random.rand()*(s*2.0+(s-1)*2.0)\n",
    "    aux=np.maximum(m1,m2)\n",
    "    m2=np.minimum(m1,m2)\n",
    "    y[i][0]=aux\n",
    "    y[i][1]=m2\n",
    "    y[i][2:4]=np.random.random_sample((1,2))   #magnitude of spins\n",
    "    y[i][4]=np.pi*np.random.rand()  #angle between spins\n",
    "#    y[i][5]=(y[i][0]*y[i][1])**(3.0/5)/(y[i][0]+y[i][1])**(1.0/5)   #chirp mass. Maybe we add it from Wednesday\n"
   ]
  },
  {
   "cell_type": "code",
   "execution_count": 103,
   "id": "5b39187e-d1c8-496c-a1fb-d6a9757c16b4",
   "metadata": {},
   "outputs": [],
   "source": [
    "#Generate tags: mutually exclusive tags\n",
    "# hasNS   hasRMN    category    criteria\n",
    "#   N        N        0          m2>3     \n",
    "#   Y        N        1          m2<3 && f<0\n",
    "#   Y        Y        2          m2<3 && f>0\n",
    "#   N        Y        3      should not happen, but let's test to account for noise in data  m2>3 && f>0\n",
    "def f_category(x):\n",
    "    m1=x[0]; m2=x[1]; s1=x[2]; s2=x[3]\n",
    "    value=(-m2/3+m1*s1-m2*s2)/np.sqrt(m1*m2)\n",
    "    \n",
    "    if (m2>3 and value>=0):\n",
    "        return int(3)\n",
    "    elif (m2>3 and value<0):\n",
    "        return int(0)\n",
    "    elif (m2<=3 and value>=0):\n",
    "        return int(2)\n",
    "    else:\n",
    "        return int(1)"
   ]
  },
  {
   "cell_type": "code",
   "execution_count": 116,
   "id": "07c0c492-db0f-47f8-a885-9a0718375a1e",
   "metadata": {},
   "outputs": [],
   "source": [
    "tags=np.zeros(Nsample,dtype=int)\n",
    "for i in range (0,Nsample):\n",
    "    tags[i]=f_category(y[i])"
   ]
  },
  {
   "cell_type": "code",
   "execution_count": 119,
   "id": "49177461-2254-4ecc-8b89-b583780d4bbb",
   "metadata": {},
   "outputs": [
    {
     "name": "stdout",
     "output_type": "stream",
     "text": [
      "No NS,  no remnant:  347\n",
      "Has NS, no remnant:  293\n",
      "Has NS, yes remnant:  211\n",
      "No BH,  yes remnant:  149\n"
     ]
    }
   ],
   "source": [
    "count_arr=np.bincount(tags)\n",
    "print('No NS,  no remnant: ', count_arr[0])\n",
    "print('Has NS, no remnant: ', count_arr[1])\n",
    "print('Has NS, yes remnant: ', count_arr[2])\n",
    "print('No BH,  yes remnant: ', count_arr[3])"
   ]
  },
  {
   "cell_type": "code",
   "execution_count": null,
   "id": "ed651293-0755-4789-bc5b-ac222f5bfa08",
   "metadata": {},
   "outputs": [],
   "source": []
  },
  {
   "cell_type": "code",
   "execution_count": null,
   "id": "3780a85a-4660-43cf-aa3a-1b75e00fe077",
   "metadata": {},
   "outputs": [],
   "source": []
  }
 ],
 "metadata": {
  "kernelspec": {
   "display_name": "Python 3",
   "language": "python",
   "name": "python3"
  },
  "language_info": {
   "codemirror_mode": {
    "name": "ipython",
    "version": 3
   },
   "file_extension": ".py",
   "mimetype": "text/x-python",
   "name": "python",
   "nbconvert_exporter": "python",
   "pygments_lexer": "ipython3",
   "version": "3.7.8"
  }
 },
 "nbformat": 4,
 "nbformat_minor": 5
}
