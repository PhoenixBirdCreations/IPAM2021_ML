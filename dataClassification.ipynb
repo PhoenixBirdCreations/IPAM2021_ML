{
 "cells": [
  {
   "cell_type": "code",
   "execution_count": null,
   "id": "8299345e-55ac-4c2b-a440-1a5df9bd8c4f",
   "metadata": {},
   "outputs": [],
   "source": [
    "#THE IRIS DATASET\n",
    "#Contains 150 samples. Remember that if we cannot create new data, we have to separate them into training, validation and testing\n",
    "#The data is in an array. The rows being the samples and the columns being: Sepal Length, Sepal Width, Petal Length and Petal Width\n",
    "\n",
    "from sklearn import datasets\n",
    "\n",
    "iris = datasets.load_iris()\n",
    "X = iris.data[:, :2]  # Here is taking just the first two features. You can take up until the 4th one\n",
    "y = iris.target #Here are the correspondent labels\n"
   ]
  },
  {
   "cell_type": "code",
   "execution_count": 20,
   "id": "bc2cd10c-2535-42d0-af51-2a60b1c129f3",
   "metadata": {
    "tags": []
   },
   "outputs": [],
   "source": [
    "#THE GLASS DATASET\n",
    "import numpy as np\n",
    "#https://www.kaggle.com/uciml/glass\n",
    "#This data is about classifying a type of glass by its properties (composition and refracting index)\n",
    "#This dataset contains 9 attributes. The response is glass type (discrete 7 values), that is the last value in each row\n",
    "#There are 214 samples\n",
    "#So this dataset allow us to have a little more data, and also more attributes in it\n",
    "import csv\n",
    "file = open('glass.csv')\n",
    "csvreader = csv.reader(file)\n",
    "header = next(csvreader)\n",
    "rows = []\n",
    "for row in csvreader:\n",
    "        rows.append(row)\n",
    "file.close()\n",
    "\n",
    "#And here is the data in numpys arrays ready for ML. x is the data and y the category\n",
    "y=np.zeros(len(rows))\n",
    "x=np.zeros((len(rows),9))\n",
    "i=0\n",
    "for row in rows:\n",
    "    x[i]=row[0:9]\n",
    "    y[i]=row[9]\n",
    "    i=i+1\n",
    "\n"
   ]
  },
  {
   "cell_type": "code",
   "execution_count": null,
   "id": "62b6dce8-8f6b-48e1-a78b-28b5a9e18c54",
   "metadata": {},
   "outputs": [],
   "source": []
  }
 ],
 "metadata": {
  "kernelspec": {
   "display_name": "Python 3",
   "language": "python",
   "name": "python3"
  },
  "language_info": {
   "codemirror_mode": {
    "name": "ipython",
    "version": 3
   },
   "file_extension": ".py",
   "mimetype": "text/x-python",
   "name": "python",
   "nbconvert_exporter": "python",
   "pygments_lexer": "ipython3",
   "version": "3.7.8"
  }
 },
 "nbformat": 4,
 "nbformat_minor": 5
}
