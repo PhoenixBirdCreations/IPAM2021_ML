{
 "cells": [
  {
   "cell_type": "code",
   "execution_count": 1,
   "id": "ac609d39-92e8-47dc-83b4-14905f653a5e",
   "metadata": {},
   "outputs": [],
   "source": [
    "import numpy as np"
   ]
  },
  {
   "cell_type": "code",
   "execution_count": 2,
   "id": "ad4c10b3-dbf8-408f-9ac5-52c8323a4b8e",
   "metadata": {},
   "outputs": [],
   "source": [
    "#PREPARING DATA FOR REGRESSION\n",
    "#We have some fake (fake) random data representing the properties of the binary\n",
    "#We relate the quantities in a complicated way that represents the unknown error introduced by GSTLAL\n",
    "#We want to recover the initial quantities, as the ML algorithm should be able to guess this complicated relation function\n",
    "\n",
    "np.random.seed(21) #fix random seed so we can reproduce results\n",
    "\n",
    "#Prepare example dataset:\n",
    "Nsample=3 #number of data points\n",
    "dsample=5 #dimension of the data point DONT CHANGE\n",
    "    #Example: we have Nsample injections, each of them with dsample parameters estimated\n",
    "#We will simulate two random masses between 1.1 and 2.1, their two random magnitudes of the spin between 0 and 1, and a random angle between them, from 0 to pi\n",
    "y=np.zeros((Nsample,dsample))\n",
    "for i in range (0,Nsample):\n",
    "    y[i][0:2]=1.1+ np.random.random_sample((1,2)) \n",
    "    y[i][2:4]=np.random.random_sample((1,2)) \n",
    "    y[i][4]=np.pi*np.random.random_sample((1,1)) "
   ]
  },
  {
   "cell_type": "code",
   "execution_count": 3,
   "id": "8791f9b6-d14a-4f19-bb45-97fdf233993f",
   "metadata": {},
   "outputs": [],
   "source": [
    "#this emulates the nonlinear effects introduced by the GSTLAL pipeline\n",
    "def complicated_f(vector):\n",
    "    x=vector[0]; y=vector[1]; z=vector[2]; w=vector[3]; v=vector[4]\n",
    "    return [x*z+w**2-v/np.sqrt(y),y**3*(x+np.pi*w)/(1+v+3*z),np.sqrt((x-v)**2+(y-w)**2+(z-x)**2),np.sqrt(x)/(2*y**2*z+1)+v/(4*y*z*np.sqrt(v)+2)-w,np.sin(x+y)+z*w/(z+w+v)]"
   ]
  },
  {
   "cell_type": "code",
   "execution_count": 4,
   "id": "20b2fe0c-3a0b-4146-b54e-ba90b619beb6",
   "metadata": {},
   "outputs": [],
   "source": [
    "#We prepare the results \"from the pipeline\"\n",
    "errorpct=0.05  #noise percentage to introduce\n",
    "x=np.zeros((Nsample,dsample));\n",
    "for i in range (0,Nsample):\n",
    "    x[i]=complicated_f(y[i])\n",
    "    for j in range(0, dsample): #plus some random error up to specified % of the value\n",
    "        x[i][j]=x[i][j]+x[i][j]*(-1)**np.random.randint(1,3)*errorpct*np.random.rand()"
   ]
  },
  {
   "cell_type": "code",
   "execution_count": 5,
   "id": "4412cf69-b1ce-4bd1-8627-ff8044a02285",
   "metadata": {},
   "outputs": [],
   "source": [
    "#Then train the ML with data x and tag y, to see if it can discover the complicated function relating the quantities\n"
   ]
  },
  {
   "cell_type": "code",
   "execution_count": null,
   "id": "340874bf-d8e6-410c-a19a-f2fdd7d7eeed",
   "metadata": {},
   "outputs": [],
   "source": [
    "#Create a test case to see how your trained ML performs\n",
    "ytest=np.zeros(dsample)\n",
    "ytest[0:2]=1.1+ np.random.random_sample((1,2)) \n",
    "ytest[2:4]=np.random.random_sample((1,2)) \n",
    "ytest[4]=np.pi*np.random.random_sample((1,1)) \n",
    "\n",
    "xtest=complicated_f(ytest)\n",
    "print('introduced',xtest)\n",
    "print('to be recovered',ytest)"
   ]
  },
  {
   "cell_type": "code",
   "execution_count": null,
   "id": "fde432dc-60fd-4398-a901-00fc3745d8e3",
   "metadata": {},
   "outputs": [],
   "source": [
    "#Evaluate your ML\n",
    "#yresult=ml.test(xtest)    #usually to evaluate we use method.test or something similar. Look at the documentation of your function   \n",
    "print('recovered',yresult) \n",
    "#are the results good?\n",
    "#Do you want more testing cases for stadistics? Genererate another data set like the training one"
   ]
  }
 ],
 "metadata": {
  "kernelspec": {
   "display_name": "Python 3",
   "language": "python",
   "name": "python3"
  },
  "language_info": {
   "codemirror_mode": {
    "name": "ipython",
    "version": 3
   },
   "file_extension": ".py",
   "mimetype": "text/x-python",
   "name": "python",
   "nbconvert_exporter": "python",
   "pygments_lexer": "ipython3",
   "version": "3.7.8"
  }
 },
 "nbformat": 4,
 "nbformat_minor": 5
}
