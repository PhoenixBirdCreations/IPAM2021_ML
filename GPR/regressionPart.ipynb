{
 "cells": [
  {
   "cell_type": "code",
   "execution_count": 1,
   "id": "75c2a17a",
   "metadata": {},
   "outputs": [],
   "source": [
    "import csv\n",
    "import numpy as np\n",
    "\n",
    "import sklearn\n",
    "from sklearn.gaussian_process import GaussianProcessRegressor\n",
    "from sklearn import preprocessing\n",
    "\n",
    "from plotting_tools import plotting_feats"
   ]
  },
  {
   "cell_type": "code",
   "execution_count": 2,
   "id": "a19121ed",
   "metadata": {},
   "outputs": [],
   "source": [
    "from sklearn.gaussian_process.kernels import DotProduct, RationalQuadratic, RBF, ConstantKernel, WhiteKernel"
   ]
  },
  {
   "cell_type": "code",
   "execution_count": 3,
   "id": "a43204fc",
   "metadata": {},
   "outputs": [],
   "source": [
    "def extractData(filename):\n",
    "    lst=[]\n",
    "    with open(filename) as csv_file:\n",
    "        csv_reader = csv.reader(csv_file, delimiter=',')\n",
    "        for row in csv_reader:\n",
    "            lst.append(row)\n",
    "    data=np.array(lst, dtype=float)\n",
    "    return data\n",
    "\n",
    "def writeResult(filename, data):\n",
    "    with open(filename, 'w') as csvfile:\n",
    "        spamwriter = csv.writer(csvfile, delimiter=',')\n",
    "        for row in data:\n",
    "            spamwriter.writerow(row)"
   ]
  },
  {
   "cell_type": "markdown",
   "id": "14ef9615",
   "metadata": {},
   "source": [
    "## Training"
   ]
  },
  {
   "cell_type": "code",
   "execution_count": 4,
   "id": "d445028b",
   "metadata": {},
   "outputs": [],
   "source": [
    "#Do this for every set and version of the csv available\n",
    "xtrain = extractData('../NewRealistic/v0c0train_x.csv')\n",
    "ytrain = extractData('../NewRealistic/v0c0train_y.csv')\n",
    "xtest = extractData('../NewRealistic/v0c0test_x.csv')\n",
    "ytest = extractData('../NewRealistic/v0c0test_y.csv')"
   ]
  },
  {
   "cell_type": "code",
   "execution_count": 5,
   "id": "287bc570",
   "metadata": {},
   "outputs": [],
   "source": [
    "scaler = preprocessing.StandardScaler().fit(xtrain)\n",
    "xtrain_scaled = scaler.transform(xtrain)\n",
    "scaler = preprocessing.StandardScaler().fit(xtest)\n",
    "xtest_scaled = scaler.transform(xtest)\n",
    "scaler = preprocessing.StandardScaler().fit(ytrain)\n",
    "ytrain_scaled = scaler.transform(ytrain)\n",
    "scaler = preprocessing.StandardScaler().fit(ytest)\n",
    "ytest_scaled = scaler.transform(ytest)"
   ]
  },
  {
   "cell_type": "code",
   "execution_count": 6,
   "id": "9210521f",
   "metadata": {},
   "outputs": [],
   "source": [
    "xtrain_scaled = xtrain_scaled[:10000,:]\n",
    "ytrain_scaled = ytrain_scaled[:10000,:]\n",
    "xtest_scaled = xtest_scaled[:2000,:]\n",
    "ytest_scaled = ytest_scaled[:2000,:]"
   ]
  },
  {
   "cell_type": "code",
   "execution_count": 7,
   "id": "3a65082a",
   "metadata": {},
   "outputs": [
    {
     "name": "stdout",
     "output_type": "stream",
     "text": [
      "CPU times: user 4h 29min 38s, sys: 7min 27s, total: 4h 37min 6s\n",
      "Wall time: 1h 15min 59s\n"
     ]
    },
    {
     "data": {
      "text/plain": [
       "0.944156936020389"
      ]
     },
     "execution_count": 7,
     "metadata": {},
     "output_type": "execute_result"
    }
   ],
   "source": [
    "%%time\n",
    "kernel = DotProduct() + RationalQuadratic(length_scale=1.0, alpha=2, length_scale_bounds=(.1, 10), alpha_bounds=(1e-4, 4))\n",
    "gpr = GaussianProcessRegressor(kernel=kernel, alpha=1e-7, optimizer='fmin_l_bfgs_b', n_restarts_optimizer=3, copy_X_train=False)\n",
    "gpr.fit(xtrain_scaled, ytrain_scaled)\n",
    "predicted_data, std = gpr.predict(xtest_scaled, return_std=True)\n",
    "gpr.score(xtest_scaled, ytest_scaled)"
   ]
  },
  {
   "cell_type": "code",
   "execution_count": 8,
   "id": "f7cfd3f0",
   "metadata": {},
   "outputs": [],
   "source": [
    "writeResult('GPR_v0c0.csv',predicted_data)"
   ]
  },
  {
   "cell_type": "markdown",
   "id": "6f9c34fe",
   "metadata": {},
   "source": [
    "### More"
   ]
  },
  {
   "cell_type": "code",
   "execution_count": 9,
   "id": "ed38f835",
   "metadata": {},
   "outputs": [],
   "source": [
    "xtrain = extractData('../NewRealistic/v0c1train_x.csv')\n",
    "ytrain = extractData('../NewRealistic/v0c1train_y.csv')\n",
    "xtest = extractData('../NewRealistic/v0c1test_x.csv')\n",
    "ytest = extractData('../NewRealistic/v0c1test_y.csv')\n",
    "scaler = preprocessing.StandardScaler().fit(xtrain)\n",
    "xtrain_scaled = scaler.transform(xtrain)\n",
    "scaler = preprocessing.StandardScaler().fit(xtest)\n",
    "xtest_scaled = scaler.transform(xtest)\n",
    "scaler = preprocessing.StandardScaler().fit(ytrain)\n",
    "ytrain_scaled = scaler.transform(ytrain)\n",
    "scaler = preprocessing.StandardScaler().fit(ytest)\n",
    "ytest_scaled = scaler.transform(ytest)\n",
    "xtrain_scaled = xtrain_scaled[:10000,:]\n",
    "ytrain_scaled = ytrain_scaled[:10000,:]\n",
    "xtest_scaled = xtest_scaled[:2000,:]\n",
    "ytest_scaled = ytest_scaled[:2000,:]"
   ]
  },
  {
   "cell_type": "code",
   "execution_count": 10,
   "id": "b40e84f3",
   "metadata": {},
   "outputs": [
    {
     "name": "stdout",
     "output_type": "stream",
     "text": [
      "CPU times: user 5h 25min 3s, sys: 9min 30s, total: 5h 34min 33s\n",
      "Wall time: 1h 32min 41s\n"
     ]
    },
    {
     "data": {
      "text/plain": [
       "0.9409232152964251"
      ]
     },
     "execution_count": 10,
     "metadata": {},
     "output_type": "execute_result"
    }
   ],
   "source": [
    "%%time\n",
    "kernel = DotProduct() + RationalQuadratic(length_scale=1.0, alpha=2, length_scale_bounds=(.1, 10), alpha_bounds=(1e-4, 4))\n",
    "gpr = GaussianProcessRegressor(kernel=kernel, alpha=1e-7, optimizer='fmin_l_bfgs_b', n_restarts_optimizer=3, copy_X_train=False)\n",
    "gpr.fit(xtrain_scaled, ytrain_scaled)\n",
    "predicted_data, std = gpr.predict(xtest_scaled, return_std=True)\n",
    "gpr.score(xtest_scaled, ytest_scaled)"
   ]
  },
  {
   "cell_type": "code",
   "execution_count": 11,
   "id": "a6e1aaf4",
   "metadata": {},
   "outputs": [],
   "source": [
    "writeResult('GPR_v0c1.csv',predicted_data)"
   ]
  },
  {
   "cell_type": "code",
   "execution_count": 12,
   "id": "b9dbcc92",
   "metadata": {},
   "outputs": [],
   "source": [
    "xtrain = extractData('../NewRealistic/v1c0train_x.csv')\n",
    "ytrain = extractData('../NewRealistic/v1c0train_y.csv')\n",
    "xtest = extractData('../NewRealistic/v1c0test_x.csv')\n",
    "ytest = extractData('../NewRealistic/v1c0test_y.csv')\n",
    "scaler = preprocessing.StandardScaler().fit(xtrain)\n",
    "xtrain_scaled = scaler.transform(xtrain)\n",
    "scaler = preprocessing.StandardScaler().fit(xtest)\n",
    "xtest_scaled = scaler.transform(xtest)\n",
    "scaler = preprocessing.StandardScaler().fit(ytrain)\n",
    "ytrain_scaled = scaler.transform(ytrain)\n",
    "scaler = preprocessing.StandardScaler().fit(ytest)\n",
    "ytest_scaled = scaler.transform(ytest)\n",
    "xtrain_scaled = xtrain_scaled[:10000,:]\n",
    "ytrain_scaled = ytrain_scaled[:10000,:]\n",
    "xtest_scaled = xtest_scaled[:2000,:]\n",
    "ytest_scaled = ytest_scaled[:2000,:]"
   ]
  },
  {
   "cell_type": "code",
   "execution_count": 13,
   "id": "188921e2",
   "metadata": {},
   "outputs": [
    {
     "name": "stdout",
     "output_type": "stream",
     "text": [
      "CPU times: user 4h 8min 23s, sys: 6min 37s, total: 4h 15min 1s\n",
      "Wall time: 1h 9min 22s\n"
     ]
    },
    {
     "data": {
      "text/plain": [
       "0.7330537424775515"
      ]
     },
     "execution_count": 13,
     "metadata": {},
     "output_type": "execute_result"
    }
   ],
   "source": [
    "%%time\n",
    "kernel = DotProduct() + RationalQuadratic(length_scale=1.0, alpha=2, length_scale_bounds=(.1, 10), alpha_bounds=(1e-4, 4))\n",
    "gpr = GaussianProcessRegressor(kernel=kernel, alpha=1e-7, optimizer='fmin_l_bfgs_b', n_restarts_optimizer=3, copy_X_train=False)\n",
    "gpr.fit(xtrain_scaled, ytrain_scaled)\n",
    "predicted_data, std = gpr.predict(xtest_scaled, return_std=True)\n",
    "gpr.score(xtest_scaled, ytest_scaled)"
   ]
  },
  {
   "cell_type": "code",
   "execution_count": 14,
   "id": "fff00be6",
   "metadata": {},
   "outputs": [],
   "source": [
    "writeResult('GPR_v1c0.csv',predicted_data)"
   ]
  },
  {
   "cell_type": "code",
   "execution_count": 15,
   "id": "7b2c37f6",
   "metadata": {},
   "outputs": [],
   "source": [
    "xtrain = extractData('../NewRealistic/v1c1train_x.csv')\n",
    "ytrain = extractData('../NewRealistic/v1c1train_y.csv')\n",
    "xtest = extractData('../NewRealistic/v1c1test_x.csv')\n",
    "ytest = extractData('../NewRealistic/v1c1test_y.csv')\n",
    "scaler = preprocessing.StandardScaler().fit(xtrain)\n",
    "xtrain_scaled = scaler.transform(xtrain)\n",
    "scaler = preprocessing.StandardScaler().fit(xtest)\n",
    "xtest_scaled = scaler.transform(xtest)\n",
    "scaler = preprocessing.StandardScaler().fit(ytrain)\n",
    "ytrain_scaled = scaler.transform(ytrain)\n",
    "scaler = preprocessing.StandardScaler().fit(ytest)\n",
    "ytest_scaled = scaler.transform(ytest)\n",
    "xtrain_scaled = xtrain_scaled[:10000,:]\n",
    "ytrain_scaled = ytrain_scaled[:10000,:]\n",
    "xtest_scaled = xtest_scaled[:2000,:]\n",
    "ytest_scaled = ytest_scaled[:2000,:]"
   ]
  },
  {
   "cell_type": "code",
   "execution_count": 16,
   "id": "b549f991",
   "metadata": {},
   "outputs": [
    {
     "name": "stdout",
     "output_type": "stream",
     "text": [
      "CPU times: user 3h 50min 23s, sys: 6min 28s, total: 3h 56min 52s\n",
      "Wall time: 1h 5min 4s\n"
     ]
    },
    {
     "data": {
      "text/plain": [
       "0.7274342676559726"
      ]
     },
     "execution_count": 16,
     "metadata": {},
     "output_type": "execute_result"
    }
   ],
   "source": [
    "%%time\n",
    "kernel = DotProduct() + RationalQuadratic(length_scale=1.0, alpha=2, length_scale_bounds=(.1, 10), alpha_bounds=(1e-4, 4))\n",
    "gpr = GaussianProcessRegressor(kernel=kernel, alpha=1e-7, optimizer='fmin_l_bfgs_b', n_restarts_optimizer=3, copy_X_train=False)\n",
    "gpr.fit(xtrain_scaled, ytrain_scaled)\n",
    "predicted_data, std = gpr.predict(xtest_scaled, return_std=True)\n",
    "gpr.score(xtest_scaled, ytest_scaled)"
   ]
  },
  {
   "cell_type": "code",
   "execution_count": 17,
   "id": "d498a657",
   "metadata": {},
   "outputs": [],
   "source": [
    "writeResult('GPR_v1c1.csv',predicted_data)"
   ]
  },
  {
   "cell_type": "code",
   "execution_count": 18,
   "id": "8480b34c",
   "metadata": {},
   "outputs": [],
   "source": [
    "xtrain = extractData('../NewRealistic/v2c0train_x.csv')\n",
    "ytrain = extractData('../NewRealistic/v2c0train_y.csv')\n",
    "xtest = extractData('../NewRealistic/v2c0test_x.csv')\n",
    "ytest = extractData('../NewRealistic/v2c0test_y.csv')\n",
    "scaler = preprocessing.StandardScaler().fit(xtrain)\n",
    "xtrain_scaled = scaler.transform(xtrain)\n",
    "scaler = preprocessing.StandardScaler().fit(xtest)\n",
    "xtest_scaled = scaler.transform(xtest)\n",
    "scaler = preprocessing.StandardScaler().fit(ytrain)\n",
    "ytrain_scaled = scaler.transform(ytrain)\n",
    "scaler = preprocessing.StandardScaler().fit(ytest)\n",
    "ytest_scaled = scaler.transform(ytest)\n",
    "xtrain_scaled = xtrain_scaled[:10000,:]\n",
    "ytrain_scaled = ytrain_scaled[:10000,:]\n",
    "xtest_scaled = xtest_scaled[:2000,:]\n",
    "ytest_scaled = ytest_scaled[:2000,:]"
   ]
  },
  {
   "cell_type": "code",
   "execution_count": 19,
   "id": "7789c8ac",
   "metadata": {},
   "outputs": [
    {
     "name": "stderr",
     "output_type": "stream",
     "text": [
      "/home/IPAMNET/lmzertuche/.local/lib/python3.6/site-packages/sklearn/gaussian_process/kernels.py:409: ConvergenceWarning: The optimal value found for dimension 0 of parameter k2__length_scale is close to the specified lower bound 0.1. Decreasing the bound and calling fit again may find a better value.\n",
      "  ConvergenceWarning)\n"
     ]
    },
    {
     "name": "stdout",
     "output_type": "stream",
     "text": [
      "CPU times: user 1h 6min 59s, sys: 1min 58s, total: 1h 8min 58s\n",
      "Wall time: 19min 9s\n"
     ]
    },
    {
     "data": {
      "text/plain": [
       "0.41474493342413776"
      ]
     },
     "execution_count": 19,
     "metadata": {},
     "output_type": "execute_result"
    }
   ],
   "source": [
    "%%time\n",
    "kernel = DotProduct() + RationalQuadratic(length_scale=1.0, alpha=2, length_scale_bounds=(.1, 10), alpha_bounds=(1e-4, 4))\n",
    "gpr = GaussianProcessRegressor(kernel=kernel, alpha=1e-7, optimizer='fmin_l_bfgs_b', n_restarts_optimizer=3, copy_X_train=False)\n",
    "gpr.fit(xtrain_scaled, ytrain_scaled)\n",
    "predicted_data, std = gpr.predict(xtest_scaled, return_std=True)\n",
    "gpr.score(xtest_scaled, ytest_scaled)"
   ]
  },
  {
   "cell_type": "code",
   "execution_count": 20,
   "id": "33f05ebe",
   "metadata": {},
   "outputs": [],
   "source": [
    "writeResult('GPR_v2c0.csv',predicted_data)"
   ]
  },
  {
   "cell_type": "code",
   "execution_count": 21,
   "id": "a410a9b6",
   "metadata": {},
   "outputs": [],
   "source": [
    "xtrain = extractData('../NewRealistic/v2c1train_x.csv')\n",
    "ytrain = extractData('../NewRealistic/v2c1train_y.csv')\n",
    "xtest = extractData('../NewRealistic/v2c1test_x.csv')\n",
    "ytest = extractData('../NewRealistic/v2c1test_y.csv')\n",
    "scaler = preprocessing.StandardScaler().fit(xtrain)\n",
    "xtrain_scaled = scaler.transform(xtrain)\n",
    "scaler = preprocessing.StandardScaler().fit(xtest)\n",
    "xtest_scaled = scaler.transform(xtest)\n",
    "scaler = preprocessing.StandardScaler().fit(ytrain)\n",
    "ytrain_scaled = scaler.transform(ytrain)\n",
    "scaler = preprocessing.StandardScaler().fit(ytest)\n",
    "ytest_scaled = scaler.transform(ytest)\n",
    "xtrain_scaled = xtrain_scaled[:10000,:]\n",
    "ytrain_scaled = ytrain_scaled[:10000,:]\n",
    "xtest_scaled = xtest_scaled[:2000,:]\n",
    "ytest_scaled = ytest_scaled[:2000,:]"
   ]
  },
  {
   "cell_type": "code",
   "execution_count": 22,
   "id": "2c26d008",
   "metadata": {},
   "outputs": [
    {
     "name": "stderr",
     "output_type": "stream",
     "text": [
      "/home/IPAMNET/lmzertuche/.local/lib/python3.6/site-packages/sklearn/gaussian_process/kernels.py:409: ConvergenceWarning: The optimal value found for dimension 0 of parameter k2__length_scale is close to the specified lower bound 0.1. Decreasing the bound and calling fit again may find a better value.\n",
      "  ConvergenceWarning)\n"
     ]
    },
    {
     "name": "stdout",
     "output_type": "stream",
     "text": [
      "CPU times: user 1h 48min 7s, sys: 2min 58s, total: 1h 51min 6s\n",
      "Wall time: 30min 17s\n"
     ]
    },
    {
     "data": {
      "text/plain": [
       "0.3910912018368599"
      ]
     },
     "execution_count": 22,
     "metadata": {},
     "output_type": "execute_result"
    }
   ],
   "source": [
    "%%time\n",
    "kernel = DotProduct() + RationalQuadratic(length_scale=1.0, alpha=2, length_scale_bounds=(.1, 10), alpha_bounds=(1e-4, 4))\n",
    "gpr = GaussianProcessRegressor(kernel=kernel, alpha=1e-7, optimizer='fmin_l_bfgs_b', n_restarts_optimizer=3, copy_X_train=False)\n",
    "gpr.fit(xtrain_scaled, ytrain_scaled)\n",
    "predicted_data, std = gpr.predict(xtest_scaled, return_std=True)\n",
    "gpr.score(xtest_scaled, ytest_scaled)"
   ]
  },
  {
   "cell_type": "code",
   "execution_count": 23,
   "id": "0239ce5b",
   "metadata": {},
   "outputs": [],
   "source": [
    "writeResult('GPR_v2c1.csv',predicted_data)"
   ]
  },
  {
   "cell_type": "code",
   "execution_count": null,
   "id": "60738823",
   "metadata": {},
   "outputs": [],
   "source": []
  },
  {
   "cell_type": "code",
   "execution_count": null,
   "id": "c61cfdb0",
   "metadata": {},
   "outputs": [],
   "source": []
  },
  {
   "cell_type": "code",
   "execution_count": null,
   "id": "c38a5315",
   "metadata": {},
   "outputs": [],
   "source": []
  },
  {
   "cell_type": "code",
   "execution_count": null,
   "id": "00abcac3",
   "metadata": {},
   "outputs": [],
   "source": []
  },
  {
   "cell_type": "code",
   "execution_count": null,
   "id": "f44abfde",
   "metadata": {},
   "outputs": [],
   "source": []
  },
  {
   "cell_type": "code",
   "execution_count": null,
   "id": "180befea",
   "metadata": {},
   "outputs": [],
   "source": []
  },
  {
   "cell_type": "code",
   "execution_count": null,
   "id": "c742e4c9",
   "metadata": {},
   "outputs": [],
   "source": [
    "#then test the xtest and put the results in an array\n",
    "writeResult('GPR_set1_v0.csv',predicted_data) #put the name of your method (nn, svr, gpr), and change the set that you use and the version v0,v1,v2"
   ]
  },
  {
   "cell_type": "code",
   "execution_count": null,
   "id": "8247664e",
   "metadata": {},
   "outputs": [],
   "source": [
    " RBF(length_scale=[1e-3] * 11,length_scale_bounds=[(1e-4, 1e+2)] * 11)"
   ]
  },
  {
   "cell_type": "code",
   "execution_count": null,
   "id": "b86efa61",
   "metadata": {
    "scrolled": true
   },
   "outputs": [],
   "source": [
    "%load_ext autoreload\n",
    "%aimport plotting_tools\n",
    "%autoreload 1\n",
    "from plotting_tools import plotting_feats\n",
    "plotting_feats(ytest_scaled, predicted_data, 'DP+RC')"
   ]
  },
  {
   "cell_type": "code",
   "execution_count": null,
   "id": "f143e88b",
   "metadata": {},
   "outputs": [],
   "source": [
    "xtrain = extractData('../DataFullProcess/set2_v0_x.csv')\n",
    "ytrain = extractData('../DataFullProcess/set2_v0_y.csv')\n",
    "xtest = extractData('../DataFullProcess/predict_v0_x.csv')\n",
    "ytest = extractData('../DataFullProcess/verify_v0_y.csv')\n",
    "scaler = preprocessing.StandardScaler().fit(xtrain)\n",
    "xtrain_scaled = scaler.transform(xtrain)\n",
    "scaler = preprocessing.StandardScaler().fit(xtest)\n",
    "xtest_scaled = scaler.transform(xtest)\n",
    "scaler = preprocessing.StandardScaler().fit(ytrain)\n",
    "ytrain_scaled = scaler.transform(ytrain)\n",
    "scaler = preprocessing.StandardScaler().fit(ytest)\n",
    "ytest_scaled = scaler.transform(ytest)\n",
    "xtrain_scaled = xtrain_scaled[:10000,:]\n",
    "ytrain_scaled = ytrain_scaled[:10000,:]\n",
    "xtest_scaled = xtest_scaled[:2000,:]\n",
    "ytest_scaled = ytest_scaled[:2000,:]"
   ]
  },
  {
   "cell_type": "code",
   "execution_count": null,
   "id": "71a89146",
   "metadata": {},
   "outputs": [],
   "source": [
    "%%time\n",
    "kernel = DotProduct() + RationalQuadratic(length_scale=1.0, alpha=2, length_scale_bounds=(.1, 10), alpha_bounds=(1e-4, 4))\n",
    "gpr = GaussianProcessRegressor(kernel=kernel, alpha=1e-7, optimizer='fmin_l_bfgs_b',copy_X_train=False)\n",
    "gpr.fit(xtrain_scaled, ytrain_scaled)\n",
    "predicted_data, std = gpr.predict(xtest_scaled, return_std=True)\n",
    "gpr.score(xtest_scaled, ytest_scaled)"
   ]
  },
  {
   "cell_type": "code",
   "execution_count": null,
   "id": "ad4fad11",
   "metadata": {},
   "outputs": [],
   "source": [
    "#then test the xtest and put the results in an array\n",
    "writeResult('GPR_set2_v0.csv',predicted_data) #put the name of your method (nn, svr, gpr), and change the set that you use and the version v0,v1,v2"
   ]
  },
  {
   "cell_type": "markdown",
   "id": "49e6b70e",
   "metadata": {},
   "source": [
    "## Plotting"
   ]
  },
  {
   "cell_type": "code",
   "execution_count": null,
   "id": "76f0da91",
   "metadata": {},
   "outputs": [],
   "source": [
    "predicted_data_scaled = extractData('GPR_results/GPR_set1_v2.csv')\n",
    "ytest = extractData('../DataFullProcess/verify_v2_y.csv')\n",
    "scaler = preprocessing.StandardScaler().fit(ytest)\n",
    "predicted_data = scaler.inverse_transform(predicted_data_scaled)\n",
    "plotting_feats(ytest, predicted_data, 'DP+RC', 'set1_v2')"
   ]
  },
  {
   "cell_type": "code",
   "execution_count": null,
   "id": "686a4517",
   "metadata": {},
   "outputs": [],
   "source": []
  }
 ],
 "metadata": {
  "kernelspec": {
   "display_name": "Python 3",
   "language": "python",
   "name": "python3"
  },
  "language_info": {
   "codemirror_mode": {
    "name": "ipython",
    "version": 3
   },
   "file_extension": ".py",
   "mimetype": "text/x-python",
   "name": "python",
   "nbconvert_exporter": "python",
   "pygments_lexer": "ipython3",
   "version": "3.6.7"
  }
 },
 "nbformat": 4,
 "nbformat_minor": 5
}
