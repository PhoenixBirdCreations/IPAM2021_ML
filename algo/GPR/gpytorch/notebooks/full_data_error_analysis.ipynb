{
 "cells": [
  {
   "cell_type": "code",
   "execution_count": 1,
   "id": "historic-spoke",
   "metadata": {},
   "outputs": [],
   "source": [
    "import sys\n",
    "import csv\n",
    "import numpy as np\n",
    "from sklearn.metrics import mean_squared_error, r2_score\n",
    "import matplotlib.pyplot as plt"
   ]
  },
  {
   "cell_type": "code",
   "execution_count": 2,
   "id": "yellow-japan",
   "metadata": {},
   "outputs": [
    {
     "name": "stdout",
     "output_type": "stream",
     "text": [
      "[KeOps] Warning : omp.h header is not in the path, disabling OpenMP.\n",
      "[KeOps] Warning : Cuda libraries were not detected on the system ; using cpu only mode\n"
     ]
    },
    {
     "name": "stderr",
     "output_type": "stream",
     "text": [
      "<stdin>:1:10: fatal error: 'omp.h' file not found\n",
      "#include <omp.h>\n",
      "         ^~~~~~~\n",
      "1 error generated.\n"
     ]
    }
   ],
   "source": [
    "sys.path.insert(0,'/Users/Lorena/ML_IPAM/IPAM2021_ML/algo/GPR/gpytorch')\n",
    "from data_conditioning import *"
   ]
  },
  {
   "cell_type": "code",
   "execution_count": 3,
   "id": "involved-rough",
   "metadata": {},
   "outputs": [],
   "source": [
    "def extract_data(filename, verbose=False):\n",
    "    \"\"\" Reads data from csv file and returns it in array form.\n",
    "    Parameters\n",
    "    ----------\n",
    "    filename : str\n",
    "        File path of data file to read\n",
    "    Returns\n",
    "    -------\n",
    "    data : arr\n",
    "    \"\"\"\n",
    "    lst=[]\n",
    "    with open(filename) as csv_file:\n",
    "        csv_reader = csv.reader(csv_file, delimiter=',')\n",
    "        for row in csv_reader:\n",
    "            lst.append(row)\n",
    "    data=np.array(lst, dtype=float)\n",
    "    if verbose:\n",
    "        print(filename, 'loaded')\n",
    "    return data"
   ]
  },
  {
   "cell_type": "markdown",
   "id": "elegant-musician",
   "metadata": {},
   "source": [
    "# Read training and testing data"
   ]
  },
  {
   "cell_type": "code",
   "execution_count": 4,
   "id": "complimentary-guyana",
   "metadata": {},
   "outputs": [],
   "source": [
    "ytrain = extract_data('/Users/Lorena/ML_IPAM/IPAM2021_ML/algo/GPR/gpytorch/notebooks/complete_ytrain.csv')\n",
    "xtrain = extract_data('/Users/Lorena/ML_IPAM/IPAM2021_ML/algo/GPR/gpytorch/notebooks/complete_xtrain.csv')\n",
    "ytest = extract_data('/Users/Lorena/ML_IPAM/IPAM2021_ML/algo/GPR/gpytorch/notebooks/complete_ytest.csv')\n",
    "xtest = extract_data('/Users/Lorena/ML_IPAM/IPAM2021_ML/algo/GPR/gpytorch/notebooks/complete_xtest.csv')"
   ]
  },
  {
   "cell_type": "code",
   "execution_count": 5,
   "id": "finite-google",
   "metadata": {},
   "outputs": [
    {
     "name": "stdout",
     "output_type": "stream",
     "text": [
      "The number of rows of training data is:  142580\n",
      "The number of rows of testing data is:  61107\n",
      "The breakdown of training/testing data is 70/30\n"
     ]
    }
   ],
   "source": [
    "print('The number of rows of training data is: ', len(ytrain))\n",
    "print('The number of rows of testing data is: ', len(ytest))\n",
    "test_percentage = round(len(ytest)/(len(ytrain)+len(ytest))*100)\n",
    "print(f'The breakdown of training/testing data is {100-test_percentage}/{test_percentage}')"
   ]
  },
  {
   "cell_type": "markdown",
   "id": "covered-chain",
   "metadata": {},
   "source": [
    "# Read predictions"
   ]
  },
  {
   "cell_type": "code",
   "execution_count": 6,
   "id": "educated-street",
   "metadata": {},
   "outputs": [],
   "source": [
    "predicted_data = extract_data('please_work.csv')"
   ]
  },
  {
   "cell_type": "code",
   "execution_count": 7,
   "id": "incorporate-differential",
   "metadata": {},
   "outputs": [
    {
     "name": "stdout",
     "output_type": "stream",
     "text": [
      "2.1979144357610494 2.250010032148566\n",
      "2.2623609412112273 2.2808372935978696\n",
      "49.72206593118608 49.939003765583045\n",
      "2.2236222414067015 2.255795901233796\n",
      "53.32985435053707 73.32304554060102\n",
      "2.18912677874323 2.2107287386315875\n",
      "57.144960604608066 60.398799072951086\n",
      "68.77975825965405 89.93000874295831\n",
      "62.46338069811464 84.98046834021807\n",
      "2.2849753026966937 2.2865088247926906\n",
      "2.1892492039478384 2.2053160014911555\n",
      "68.77975825965405 89.93000874295831\n",
      "6.612584418151527 7.045751377940177\n",
      "2.2394243885646574 2.3261452164733782\n",
      "2.2506315468926914 2.3212718195281923\n",
      "2.2494030187954195 2.2578515663626604\n",
      "53.32985435053707 73.32304554060102\n",
      "70.92789764329791 72.74485797807574\n",
      "68.77975825965405 89.93000874295831\n",
      "1.449129349202849 1.4537332154868636\n"
     ]
    }
   ],
   "source": [
    "for ind,row in enumerate(predicted_data):\n",
    "    m1, m2, chi1, chi2 = row\n",
    "    if m2>m1:\n",
    "        print(m1,m2)\n",
    "    else:\n",
    "        continue"
   ]
  },
  {
   "cell_type": "code",
   "execution_count": 8,
   "id": "settled-limitation",
   "metadata": {},
   "outputs": [],
   "source": [
    "sorted_predicted_data = predicted_data.copy()\n",
    "for ind,row in enumerate(predicted_data):\n",
    "    m1, m2, chi1, chi2 = row\n",
    "    if m2>m1:\n",
    "        sorted_predicted_data[ind,0] = m2\n",
    "        sorted_predicted_data[ind,1] = m1\n",
    "        sorted_predicted_data[ind,2] = chi2\n",
    "        sorted_predicted_data[ind,3] = chi1\n",
    "    else:\n",
    "        continue\n",
    "\n",
    "predicted_data = sorted_predicted_data.copy()"
   ]
  },
  {
   "cell_type": "markdown",
   "id": "still-charge",
   "metadata": {},
   "source": [
    "# Define error functions to plot"
   ]
  },
  {
   "cell_type": "markdown",
   "id": "diverse-rates",
   "metadata": {},
   "source": [
    "Treat mass and spin data separately since zero spins cause a division problem. One could choose a very small spin, but for now I will keep it this way."
   ]
  },
  {
   "cell_type": "code",
   "execution_count": 18,
   "id": "located-hierarchy",
   "metadata": {},
   "outputs": [],
   "source": [
    "predicted_masses = predicted_data[:,:2] #first two columns are mass values\n",
    "ytest_masses = ytest[:,:2]\n",
    "xtest_masses = xtest[:,:2]\n",
    "predicted_spins = predicted_data[:,2:] #last two columns are spin values\n",
    "ytest_spins = ytest[:,2:]\n",
    "xtest_spins = xtest[:,2:]"
   ]
  },
  {
   "cell_type": "code",
   "execution_count": 19,
   "id": "worldwide-prediction",
   "metadata": {},
   "outputs": [],
   "source": [
    "# Error definitions for predicted masses\n",
    "abs_rel_err_M = np.abs((ytest_masses - predicted_masses)/ytest_masses)\n",
    "rel_err_M = (ytest_masses - predicted_masses)/ytest_masses\n",
    "abs_diff_M = np.abs(ytest_masses - predicted_masses)\n",
    "diff_M = ytest_masses - predicted_masses\n",
    "\n",
    "# Error definitions for recovered masses\n",
    "rec_diff_M = ytest_masses - xtest_masses\n",
    "rec_abs_diff_M = np.abs(ytest_masses - xtest_masses)\n",
    "rec_rel_err_M = (ytest_masses - xtest_masses)/ytest_masses\n",
    "rec_abs_rel_err_M = np.abs((ytest_masses - xtest_masses)/ytest_masses)\n",
    "\n",
    "# Error definitions for predicted spins\n",
    "abs_diff_S = np.abs(ytest_spins - predicted_spins)\n",
    "diff_S = ytest_spins - predicted_spins\n",
    "\n",
    "# Error definitions for recovered spins\n",
    "rec_diff_S = ytest_spins - xtest_spins\n",
    "rec_abs_diff_S = np.abs(ytest_spins - xtest_spins)"
   ]
  },
  {
   "cell_type": "markdown",
   "id": "developmental-booking",
   "metadata": {},
   "source": [
    "A bad R2 score does not necessarily mean that our model is wrong."
   ]
  },
  {
   "cell_type": "code",
   "execution_count": null,
   "id": "appointed-campbell",
   "metadata": {},
   "outputs": [],
   "source": [
    "print(\"R2 score for predicted masses: %.2f\" % r2_score(ytest_masses,predicted_masses))\n",
    "print(\"Mean squared error for predicted masses: %.2f\" % mean_squared_error(ytest_masses,predicted_masses))\n",
    "\n",
    "print(\"R2 score for recovered masses: %.2f\" % r2_score(ytest_masses,xtest_masses))\n",
    "print(\"Mean squared error for recovered masses: %.2f\" % mean_squared_error(ytest_masses,xtest_masses))"
   ]
  },
  {
   "cell_type": "code",
   "execution_count": null,
   "id": "wooden-duncan",
   "metadata": {},
   "outputs": [],
   "source": [
    "print(\"R2 score for predicted spins: %.2f\" % r2_score(ytest_spins,predicted_spins))\n",
    "print(\"Mean squared error for predicted spins: %.2f\" % mean_squared_error(ytest_spins,predicted_spins))\n",
    "     \n",
    "print(\"R2 score for recovered spins: %.2f\" % r2_score(ytest_spins,xtest_spins))\n",
    "print(\"Mean squared error for recovered spins: %.2f\" % mean_squared_error(ytest_spins,xtest_spins))"
   ]
  },
  {
   "cell_type": "markdown",
   "id": "pleased-shield",
   "metadata": {},
   "source": [
    "# Plotting"
   ]
  },
  {
   "cell_type": "code",
   "execution_count": null,
   "id": "stable-kernel",
   "metadata": {},
   "outputs": [],
   "source": [
    "color_cycle = [\n",
    "        (53/255.,  74/255.,  93/255.),   # black\n",
    "        (59/255.,  153/255., 217/255.),  # blue\n",
    "        (229/255., 126/255., 49/255.),   # orange\n",
    "        (53/255.,  206/255., 116/255.),  # green\n",
    "        (230/255., 78/255.,  67/255.),   # red\n",
    "        (154/255., 91/255.,  179/255.),  # purple\n",
    "        (240/255., 195/255., 48/255.),   # gold\n",
    "        '#e377c2',                       # pink\n",
    "        '#8c564b',                       # brown\n",
    "        '#7f7f7f',                       # gray\n",
    "        '#17becf',                       # teal\n",
    "        '#bcbd22',                       # lime\n",
    "    ]"
   ]
  },
  {
   "cell_type": "code",
   "execution_count": null,
   "id": "grave-bailey",
   "metadata": {},
   "outputs": [],
   "source": [
    "bbh = np.where((ytest_masses[:,0]>=5) & (ytest_masses[:,1]>=5))\n",
    "bns = np.where((ytest_masses[:,0]<5) & (ytest_masses[:,1]<5))\n",
    "nsbh = np.where((ytest_masses[:,0]>=5) & (ytest_masses[:,1]<5))"
   ]
  },
  {
   "cell_type": "code",
   "execution_count": null,
   "id": "vietnamese-connection",
   "metadata": {},
   "outputs": [],
   "source": [
    "bbh_m = ytest_masses[bbh,:]\n",
    "bns_m = ytest_masses[bns,:]\n",
    "nsbh_m = ytest_masses[nsbh,:]\n",
    "\n",
    "bbh_s = ytest_spins[bbh,:]\n",
    "bns_s = ytest_spins[bns,:]\n",
    "nsbh_s = ytest_spins[nsbh,:]"
   ]
  },
  {
   "cell_type": "code",
   "execution_count": null,
   "id": "developing-university",
   "metadata": {},
   "outputs": [],
   "source": [
    "# Initialize plot\n",
    "f, ax = plt.subplots(1, 2, figsize=(14, 6))\n",
    "ax[0].tick_params(axis='both', which='major', labelsize=16, pad=10)\n",
    "ax[1].tick_params(axis='both', which='major', labelsize=16, pad=10)\n",
    "\n",
    "\n",
    "\n",
    "ax[0].plot(bbh_m[0][:,0], bbh_m[0][:,1], 'o', markersize=4, color=color_cycle[1], zorder=-1, label='BBH')\n",
    "ax[0].plot(bns_m[0][:,0], bns_m[0][:,1], 'o', markersize=4, color=color_cycle[2], label='BNS')\n",
    "ax[0].plot(nsbh_m[0][:,0], nsbh_m[0][:,1], 'o', markersize=4, color=color_cycle[3], label='NSBH')   \n",
    "\n",
    "ax[0].set_xlabel(r'$m_1$', fontsize=14)\n",
    "ax[0].set_ylabel(r'$m_2$', fontsize=14)\n",
    "ax[0].legend()\n",
    "\n",
    "ax[1].plot(bbh_s[0][:,0], bbh_s[0][:,1], 'o', markersize=4, color=color_cycle[1], zorder=-3)\n",
    "ax[1].plot(bns_s[0][:,0], bns_s[0][:,1], 'o', markersize=4, color=color_cycle[2], zorder=-1)\n",
    "ax[1].plot(nsbh_s[0][:,0], nsbh_s[0][:,1], 'o', markersize=4, color=color_cycle[3], zorder=-2)\n",
    "\n",
    "ax[1].set_xlabel(r'$\\chi_1$', fontsize=18)\n",
    "ax[1].set_ylabel(r'$\\chi_2$', fontsize=18)\n",
    "ax[0].legend(fontsize=14)\n",
    "\n",
    "plt.tight_layout()\n",
    "outfile = '/Users/Lorena/ML_IPAM/IPAM2021_ML/papers/regression/figs/training_parameter_space.png'\n",
    "plt.savefig(outfile, bbox_inches=\"tight\")\n",
    "\n",
    "outfile = '/Users/Lorena/ML_IPAM/IPAM2021_ML/papers/regression/figs/training_parameter_space.pdf'\n",
    "plt.savefig(outfile, bbox_inches=\"tight\")\n",
    "plt.show()"
   ]
  },
  {
   "cell_type": "code",
   "execution_count": null,
   "id": "waiting-village",
   "metadata": {
    "scrolled": false
   },
   "outputs": [],
   "source": [
    "# Initialize plot\n",
    "f, ax = plt.subplots(2, 2, figsize=(14, 12))\n",
    "ax[0,0].tick_params(axis='both', which='major', labelsize=16, pad=10)\n",
    "ax[0,1].tick_params(axis='both', which='major', labelsize=16, pad=10)\n",
    "ax[1,0].tick_params(axis='both', which='major', labelsize=16, pad=10)\n",
    "ax[1,1].tick_params(axis='both', which='major', labelsize=16, pad=10)\n",
    "\n",
    "ax[0,0].plot(ytest_masses[:,0], ytest_masses[:,0], '-', markersize=4, color=color_cycle[0], zorder=-1, label='Injected')\n",
    "ax[0,0].plot(ytest_masses[:,0], xtest_masses[:,0], 'o', markersize=4, color=color_cycle[9], zorder=-3, label='Recovered')\n",
    "ax[0,0].plot(ytest_masses[:,0], predicted_masses[:,0], 'o', markersize=4, color=color_cycle[6], zorder=-2, label='Regressed')   \n",
    "\n",
    "ax[0,0].set_xlabel(r'$m_1$ injected', fontsize=18)\n",
    "ax[0,0].set_ylabel(r'$m_1$ recovered/regressed', fontsize=18)\n",
    "ax[0,0].legend(fontsize=14)\n",
    "\n",
    "ax[0,1].plot(ytest_masses[:,1], ytest_masses[:,1], '-', markersize=4, color=color_cycle[0], zorder=-1)\n",
    "ax[0,1].plot(ytest_masses[:,1], xtest_masses[:,1], 'o', markersize=4, color=color_cycle[9], zorder=-3)\n",
    "ax[0,1].plot(ytest_masses[:,1], predicted_masses[:,1], 'o', markersize=4, color=color_cycle[6], zorder=-2)   \n",
    "\n",
    "ax[0,1].set_xlabel(r'$m_2$ injected', fontsize=18)\n",
    "ax[0,1].set_ylabel(r'$m_2$ recovered/regressed', fontsize=18)\n",
    "\n",
    "\n",
    "ax[1,0].plot(ytest_spins[:,0], ytest_spins[:,0], '-', markersize=4, color=color_cycle[0], zorder=-1)\n",
    "ax[1,0].plot(ytest_spins[:,0], xtest_spins[:,0], 'o', markersize=4, color=color_cycle[9], zorder=-3)\n",
    "ax[1,0].plot(ytest_spins[:,0], predicted_spins[:,0], 'o', markersize=4, color=color_cycle[6], zorder=-2)\n",
    "\n",
    "ax[1,0].set_xlabel(r'$\\chi_1$ injected ', fontsize=18)\n",
    "ax[1,0].set_ylabel(r'$\\chi_1$ recovered/regressed', fontsize=18)\n",
    "\n",
    "ax[1,1].plot(ytest_spins[:,1], ytest_spins[:,1], '-', markersize=4, color=color_cycle[0], zorder=-1)\n",
    "ax[1,1].plot(ytest_spins[:,1], xtest_spins[:,1], 'o', markersize=4, color=color_cycle[9], zorder=-3)\n",
    "ax[1,1].plot(ytest_spins[:,1], predicted_spins[:,1], 'o', markersize=4, color=color_cycle[6], zorder=-2)\n",
    "\n",
    "ax[1,1].set_xlabel(r'$\\chi_2$ injected ', fontsize=18)\n",
    "ax[1,1].set_ylabel(r'$\\chi_2$ recovered/regressed', fontsize=18)\n",
    "\n",
    "plt.tight_layout()\n",
    "outfile = '/Users/Lorena/ML_IPAM/IPAM2021_ML/papers/regression/figs/m_chi_comparisons.png'\n",
    "plt.savefig(outfile, bbox_inches=\"tight\")\n",
    "\n",
    "outfile = '/Users/Lorena/ML_IPAM/IPAM2021_ML/papers/regression/figs/m_chi_comparisons.pdf'\n",
    "plt.savefig(outfile, bbox_inches=\"tight\")\n",
    "plt.show()"
   ]
  },
  {
   "cell_type": "code",
   "execution_count": null,
   "id": "conservative-filename",
   "metadata": {},
   "outputs": [],
   "source": [
    "fig, axis = plt.subplots(2,2, figsize=(14,12))\n",
    "\n",
    "combined_epsilons = [rel_err_M[:,0], rec_rel_err_M[:,0]]\n",
    "hist, bins, _ = axis[0,0].hist(combined_epsilons, 100)\n",
    "axis[0,0].clear()\n",
    "axis[0,0].set_xlabel(r'$\\Delta m_1 / m_1$', fontsize=18)\n",
    "axis[0,0].set_ylabel(r'Count', fontsize=18)\n",
    "axis[0,0].tick_params(axis='both', which='major', labelsize=16, pad=10)\n",
    "styles = ['-','-']\n",
    "labels = ['$m_1$ predicted','$m_1$ recovered']\n",
    "for_printing = ['m1 predicted','m1 recovered']\n",
    "color = [color_cycle[6], color_cycle[9]]\n",
    "\n",
    "for i in range(len(combined_epsilons)):\n",
    "    axis[0,0].hist(combined_epsilons[i], bins=bins, label=labels[i], ls=styles[i],facecolor=color[i], alpha=0.5)\n",
    "    point = axis[0,0].scatter(x=np.mean(combined_epsilons[i]), y=0, s=120, facecolors='none', edgecolors=color[i])\n",
    "    #print('The mean error of', for_printing[i] , 'is: ',np.mean(combined_epsilons[i]))\n",
    "    point.set_clip_on(False)\n",
    "\n",
    "axis[0,0].scatter(x=[None],y=0, s=120, facecolors='none', color=color_cycle[0], label='$m_1$ mean')\n",
    "axis[0,0].legend(ncol = 1, loc=\"upper left\", fontsize=14)\n",
    "\n",
    "###################\n",
    "\n",
    "combined_epsilons = [rel_err_M[:,1], rec_rel_err_M[:,1]]\n",
    "\n",
    "hist, bins, _ = axis[0,1].hist(combined_epsilons, 200)\n",
    "axis[0,1].clear()\n",
    "axis[0,1].set_xlabel(r'$\\Delta m_2 / m_2$', fontsize=18)\n",
    "axis[0,1].set_ylabel(r'Count', fontsize=18)\n",
    "axis[0,1].tick_params(axis='both', which='major', labelsize=16, pad=10)\n",
    "styles = ['-','-']\n",
    "labels = ['$m_2$ predicted','$m_2$ recovered']\n",
    "for_printing = ['m2 predicted','m2 recovered']\n",
    "color = [color_cycle[6], color_cycle[9]]\n",
    "\n",
    "for i in range(len(combined_epsilons)):\n",
    "    axis[0,1].hist(combined_epsilons[i], bins=bins, label=labels[i], ls=styles[i],facecolor=color[i], alpha=0.5)\n",
    "    point = axis[0,1].scatter(x=np.mean(combined_epsilons[i]), y=0, s=120, facecolors='none', edgecolors=color[i])\n",
    "    #print('The mean error of', for_printing[i] , 'is: ',np.mean(combined_epsilons[i]))\n",
    "    point.set_clip_on(False)\n",
    "    \n",
    "axis[0,1].scatter(x=[None],y=0, s=120, facecolors='none', color=color_cycle[0], label='$m_2$ mean')\n",
    "axis[0,1].legend(ncol = 1, loc=\"upper left\", fontsize=14)\n",
    "\n",
    "###################\n",
    "\n",
    "combined_epsilons = [diff_S[:,0], rec_diff_S[:,0]]\n",
    "\n",
    "hist, bins, _ = axis[1,0].hist(combined_epsilons, 100)\n",
    "axis[1,0].clear()\n",
    "axis[1,0].set_xlabel(r'$\\Delta \\chi_1$', fontsize=18)\n",
    "axis[1,0].set_ylabel(r'Counts', fontsize=18)\n",
    "axis[1,0].tick_params(axis='both', which='major', labelsize=16, pad=10)\n",
    "styles = ['-','-']\n",
    "labels = ['$\\chi_1$ predicted','$\\chi_1$ recovered']\n",
    "for_printing = ['spin1 predicted','spin1 recovered']\n",
    "\n",
    "color = [color_cycle[6], color_cycle[9]]\n",
    "for i in range(len(combined_epsilons)):\n",
    "    axis[1,0].hist(combined_epsilons[i], bins=bins, label=labels[i], ls=styles[i],facecolor=color[i], alpha=0.5)\n",
    "    point = axis[1,0].scatter(x=np.mean(combined_epsilons[i]), y=0, s=120, facecolors='none', edgecolors=color[i])\n",
    "    #print('The mean error of', for_printing[i] , 'is: ',np.mean(combined_epsilons[i]))\n",
    "    point.set_clip_on(False)\n",
    "\n",
    "axis[1,0].scatter(x=[None],y=0, s=120, facecolors='none', color=color_cycle[0], label='$m_1$ mean')\n",
    "axis[1,0].legend(ncol = 1, loc=\"upper left\", fontsize=14)\n",
    "\n",
    "###################\n",
    "\n",
    "combined_epsilons = [diff_S[:,1], rec_diff_S[:,1]]\n",
    "\n",
    "hist, bins, _ = axis[1,1].hist(combined_epsilons, 100)\n",
    "axis[1,1].clear()\n",
    "axis[1,1].set_xlabel(r'$\\Delta \\chi_2$', fontsize=18)\n",
    "axis[1,1].set_ylabel(r'Counts', fontsize=18)\n",
    "axis[1,1].tick_params(axis='both', which='major', labelsize=16, pad=10)\n",
    "styles = ['-','-']\n",
    "labels = ['$\\chi_2$ predicted','$\\chi_2$ recovered']\n",
    "for_printing = ['spin2 predicted','spin2 recovered']\n",
    "\n",
    "color = [color_cycle[6], color_cycle[9]]\n",
    "for i in range(len(combined_epsilons)):\n",
    "    axis[1,1].hist(combined_epsilons[i], bins=bins, label=labels[i], ls=styles[i],facecolor=color[i], alpha=0.5)\n",
    "    point = axis[1,1].scatter(x=np.mean(combined_epsilons[i]), y=0, s=120, facecolors='none', edgecolors=color[i])\n",
    "    #print('The mean error of', for_printing[i] , 'is: ',np.mean(combined_epsilons[i]))\n",
    "    point.set_clip_on(False)\n",
    "    \n",
    "axis[1,1].scatter(x=[None],y=0, s=120, facecolors='none', color=color_cycle[0], label='$m_2$ mean')    \n",
    "axis[1,1].legend(ncol = 1, loc=\"upper left\", fontsize=14)\n",
    "\n",
    "axis[0,0].set_xlim((-3,1.2))\n",
    "axis[0,1].set_xlim((-3,1.2))\n",
    "\n",
    "plt.tight_layout()\n",
    "outfile = '/Users/Lorena/ML_IPAM/IPAM2021_ML/papers/regression/figs/m1_m2_chi_error_analysis_wboxes.png'\n",
    "plt.savefig(outfile, bbox_inches=\"tight\")\n",
    "\n",
    "outfile = '/Users/Lorena/ML_IPAM/IPAM2021_ML/papers/regression/figs/m1_m2_chi_error_analysis_wboxes.pdf'\n",
    "plt.savefig(outfile, bbox_inches=\"tight\")\n",
    "plt.show()"
   ]
  },
  {
   "cell_type": "markdown",
   "id": "absent-coaching",
   "metadata": {},
   "source": [
    "## Table Values"
   ]
  },
  {
   "cell_type": "code",
   "execution_count": 11,
   "id": "consistent-structure",
   "metadata": {},
   "outputs": [],
   "source": [
    "def chirpMass(m1, m2):\n",
    "    return (m1*m2)**(3/5)/(m1+m2)**(1/5)\n",
    "\n",
    "def findSecondMassFromMc(Mc, m):\n",
    "    \"\"\"\n",
    "    Find analytically one mass from Mc and the other mass.\n",
    "    Mc and m can be vectors\n",
    "    \"\"\"\n",
    "    if np.any(Mc<0) or np.any(m<0):\n",
    "        print('negative masses in input!')\n",
    "        sys.exit()\n",
    "    Mc5 = Mc**5\n",
    "    arg = 81*m**5-12*Mc5\n",
    "    #mysqrt = np.where(arg<0, 1j*np.sqrt(-arg), np.sqrt(arg))\n",
    "    mysqrt_abs = np.sqrt(np.abs(arg))\n",
    "    mysqrt = np.where(arg<0, 1j*mysqrt_abs, mysqrt_abs)\n",
    "    Mc5by3 = Mc5**(1/3)\n",
    "    croot  = (9*m**(5/2)+mysqrt)**(1/3)\n",
    "    num    = Mc5by3*(2*3**(1/3)*Mc5by3+2**(1/3)*croot**2)\n",
    "    den    = (6**(2/3)*m**(3/2)*croot)\n",
    "    out    = num/den\n",
    "    if np.any(np.abs(out.imag)>1e-14):\n",
    "        print('Warning! Imaginary part bigger than 1e-14: ', max(np.abs(out.imag)) )\n",
    "    return out.real"
   ]
  },
  {
   "cell_type": "code",
   "execution_count": 12,
   "id": "stuck-money",
   "metadata": {},
   "outputs": [
    {
     "name": "stdout",
     "output_type": "stream",
     "text": [
      "6.6247322372068655 0.3516097550382072 0.5107850512299468\n",
      "3.24088974740557 0.12719171267549217 0.2791066841010715\n"
     ]
    }
   ],
   "source": [
    "print(np.mean(rec_abs_diff_M[:,0]), np.mean(rec_abs_rel_err_M[:,0]), np.std(rec_abs_rel_err_M[:,0]))\n",
    "print(np.mean(abs_diff_M[:,0]), np.mean(abs_rel_err_M[:,0]), np.std(abs_rel_err_M[:,0]))"
   ]
  },
  {
   "cell_type": "code",
   "execution_count": 13,
   "id": "marine-ordinary",
   "metadata": {},
   "outputs": [
    {
     "name": "stdout",
     "output_type": "stream",
     "text": [
      "2.7605347840018326 0.25608300871755 0.24501057827902584\n",
      "1.4137419512802232 0.11095334582100577 0.31878482913432227\n"
     ]
    }
   ],
   "source": [
    "print(np.mean(rec_abs_diff_M[:,1]), np.mean(rec_abs_rel_err_M[:,1]), np.std(rec_abs_rel_err_M[:,1]))\n",
    "print(np.mean(abs_diff_M[:,1]), np.mean(abs_rel_err_M[:,1]), np.std(abs_rel_err_M[:,1]))"
   ]
  },
  {
   "cell_type": "code",
   "execution_count": 14,
   "id": "color-worcester",
   "metadata": {},
   "outputs": [
    {
     "name": "stdout",
     "output_type": "stream",
     "text": [
      "0.2662353089826043 0.28228455641130074\n",
      "0.13428800671807722 0.19362360112669216\n"
     ]
    }
   ],
   "source": [
    "print(np.mean(rec_abs_diff_S[:,0]), np.std(rec_abs_diff_S[:,0]))\n",
    "print(np.mean(abs_diff_S[:,0]), np.std(abs_diff_S[:,0]))"
   ]
  },
  {
   "cell_type": "code",
   "execution_count": 15,
   "id": "thirty-manitoba",
   "metadata": {},
   "outputs": [
    {
     "name": "stdout",
     "output_type": "stream",
     "text": [
      "0.2773222469438853 0.3729191256745673\n",
      "0.1513330233519972 0.22542572452421786\n"
     ]
    }
   ],
   "source": [
    "print(np.mean(rec_abs_diff_S[:,1]), np.std(rec_abs_diff_S[:,1]))\n",
    "print(np.mean(abs_diff_S[:,1]), np.std(abs_diff_S[:,1]))"
   ]
  },
  {
   "cell_type": "code",
   "execution_count": 16,
   "id": "vietnamese-berlin",
   "metadata": {},
   "outputs": [
    {
     "name": "stdout",
     "output_type": "stream",
     "text": [
      "1.3232340121633848 0.038549959283125095 0.09943494204828374\n",
      "0.7116187041048258 0.027433342932565843 0.07945862809814487\n"
     ]
    }
   ],
   "source": [
    "Mc_inj = chirpMass(ytest_masses[:,0], ytest_masses[:,1])\n",
    "Mc_rec = chirpMass(xtest_masses[:,0], xtest_masses[:,1])\n",
    "Mc_pred = chirpMass(predicted_masses[:,0], predicted_masses[:,1])\n",
    "\n",
    "print(np.mean(np.abs(Mc_inj-Mc_rec)), np.mean(np.abs((Mc_inj-Mc_rec)/Mc_inj)), np.std(np.abs((Mc_inj-Mc_rec)/Mc_inj)))\n",
    "print(np.mean(np.abs(Mc_inj-Mc_pred)), np.mean(np.abs((Mc_inj-Mc_pred)/Mc_inj)), np.std(np.abs((Mc_inj-Mc_pred)/Mc_inj)))"
   ]
  },
  {
   "cell_type": "code",
   "execution_count": 17,
   "id": "aquatic-ozone",
   "metadata": {},
   "outputs": [],
   "source": [
    "ytrain = extract_data('/Users/Lorena/ML_IPAM/IPAM2021_ML/algo/GPR/gpytorch/notebooks/complete_ytrain_Mc.csv')\n",
    "xtrain = extract_data('/Users/Lorena/ML_IPAM/IPAM2021_ML/algo/GPR/gpytorch/notebooks/complete_xtrain_Mc.csv')\n",
    "ytest = extract_data('/Users/Lorena/ML_IPAM/IPAM2021_ML/algo/GPR/gpytorch/notebooks/complete_ytest_Mc.csv')\n",
    "xtest = extract_data('/Users/Lorena/ML_IPAM/IPAM2021_ML/algo/GPR/gpytorch/notebooks/complete_xtest_Mc.csv')\n",
    "predicted_data = extract_data('please_work_Mc.csv')"
   ]
  },
  {
   "cell_type": "code",
   "execution_count": 20,
   "id": "welcome-function",
   "metadata": {},
   "outputs": [
    {
     "name": "stdout",
     "output_type": "stream",
     "text": [
      "6.6247322372068655 0.3516097550382072 0.5107850512299468\n",
      "3.2473392566613755 0.1269245521102761 0.2760649114715896\n"
     ]
    }
   ],
   "source": [
    "print(np.mean(rec_abs_diff_M[:,0]), np.mean(rec_abs_rel_err_M[:,0]), np.std(rec_abs_rel_err_M[:,0]))\n",
    "print(np.mean(abs_diff_M[:,0]), np.mean(abs_rel_err_M[:,0]), np.std(abs_rel_err_M[:,0]))"
   ]
  },
  {
   "cell_type": "code",
   "execution_count": 21,
   "id": "metric-alert",
   "metadata": {},
   "outputs": [
    {
     "name": "stdout",
     "output_type": "stream",
     "text": [
      "1.3232340121633848 0.038549959283125095 0.09943494204828374\n",
      "0.7037174314394553 0.02683429866371226 0.08617408034656207\n"
     ]
    }
   ],
   "source": [
    "print(np.mean(rec_abs_diff_M[:,1]), np.mean(rec_abs_rel_err_M[:,1]), np.std(rec_abs_rel_err_M[:,1]))\n",
    "print(np.mean(abs_diff_M[:,1]), np.mean(abs_rel_err_M[:,1]), np.std(abs_rel_err_M[:,1]))"
   ]
  },
  {
   "cell_type": "code",
   "execution_count": 22,
   "id": "married-friendly",
   "metadata": {},
   "outputs": [
    {
     "name": "stdout",
     "output_type": "stream",
     "text": [
      "0.2662353089826043 0.28228455641130074\n",
      "0.13533450917861167 0.19268201005145702\n"
     ]
    }
   ],
   "source": [
    "print(np.mean(rec_abs_diff_S[:,0]), np.std(rec_abs_diff_S[:,0]))\n",
    "print(np.mean(abs_diff_S[:,0]), np.std(abs_diff_S[:,0]))"
   ]
  },
  {
   "cell_type": "code",
   "execution_count": 23,
   "id": "administrative-transparency",
   "metadata": {},
   "outputs": [
    {
     "name": "stdout",
     "output_type": "stream",
     "text": [
      "0.2773222469438853 0.3729191256745673\n",
      "0.15094482960875039 0.22519772014064568\n"
     ]
    }
   ],
   "source": [
    "print(np.mean(rec_abs_diff_S[:,1]), np.std(rec_abs_diff_S[:,1]))\n",
    "print(np.mean(abs_diff_S[:,1]), np.std(abs_diff_S[:,1]))"
   ]
  },
  {
   "cell_type": "code",
   "execution_count": null,
   "id": "funky-consequence",
   "metadata": {},
   "outputs": [],
   "source": [
    "findSecondMassFromMc(Mc, m)"
   ]
  },
  {
   "cell_type": "code",
   "execution_count": 24,
   "id": "defensive-laptop",
   "metadata": {},
   "outputs": [
    {
     "name": "stdout",
     "output_type": "stream",
     "text": [
      "2.760534784001831 0.25608300871755 0.24501057827902584\n",
      "1.4066545828352106 0.11387214115337663 0.3506363899321891\n"
     ]
    }
   ],
   "source": [
    "m2_inj = findSecondMassFromMc(ytest_masses[:,1], ytest_masses[:,0])\n",
    "m2_rec = findSecondMassFromMc(xtest_masses[:,1], xtest_masses[:,0])\n",
    "m2_pred = findSecondMassFromMc(predicted_masses[:,1], predicted_masses[:,0])\n",
    "\n",
    "print(np.mean(np.abs(m2_inj-m2_rec)), np.mean(np.abs((m2_inj-m2_rec)/m2_inj)), np.std(np.abs((m2_inj-m2_rec)/m2_inj)))\n",
    "print(np.mean(np.abs(m2_inj-m2_pred)), np.mean(np.abs((m2_inj-m2_pred)/m2_inj)), np.std(np.abs((m2_inj-m2_pred)/m2_inj)))"
   ]
  },
  {
   "cell_type": "code",
   "execution_count": null,
   "id": "vietnamese-terminal",
   "metadata": {},
   "outputs": [],
   "source": [
    "# Initialize plot\n",
    "f, ax = plt.subplots(1, 2, figsize=(16, 6))\n",
    "\n",
    "#True values\n",
    "ax[0].plot(ytest_masses[:,0], ytest_masses[:,0], 'r-', label='True value')     \n",
    "ax[1].plot(ytest_masses[:,1], ytest_masses[:,1], 'r-', label='True value') \n",
    "\n",
    "#Recovered\n",
    "ax[0].plot(ytest_masses[:,0], xtest_masses[:,0], 'b*', zorder=-1, label='Recovered')\n",
    "ax[1].plot(ytest_masses[:,1], xtest_masses[:,1], 'b*', zorder=-1, label='Recovered')\n",
    "\n",
    "#Predicted\n",
    "ax[0].plot(ytest_masses[:,0], predicted_masses[:,0], 'go', zorder=-1, label='Predicted')       \n",
    "ax[1].plot(ytest_masses[:,1], predicted_masses[:,1], 'go', zorder=-1, label='Predicted') \n",
    "\n",
    "ax[0].set_xlabel(r'$m_1$ injected', fontsize=14)\n",
    "ax[0].set_ylabel(r'$m_1$ GSTLAL', fontsize=14)\n",
    "ax[0].legend(fontsize=12)\n",
    "\n",
    "ax[1].set_xlabel(r'$m_2$ injected', fontsize=14)\n",
    "ax[1].set_ylabel(r'$m_2$ GSTLAL', fontsize=14)\n",
    "ax[1].legend(fontsize=12)\n",
    "\n",
    "plt.tight_layout()\n",
    "outfile = '../figs/m1_m2_chi_comparisons.png'\n",
    "plt.savefig(outfile, bbox_inches=\"tight\")\n",
    "plt.show()"
   ]
  },
  {
   "cell_type": "code",
   "execution_count": null,
   "id": "passing-turkey",
   "metadata": {},
   "outputs": [],
   "source": [
    "# Initialize plot\n",
    "f, ax = plt.subplots(1, 2, figsize=(16, 6))\n",
    "\n",
    "#True values\n",
    "ax[0].plot(ytest_spins[:,0], ytest_spins[:,0], 'r-', label='True value')     \n",
    "ax[1].plot(ytest_spins[:,1], ytest_spins[:,1], 'r-', label='True value') \n",
    "\n",
    "#Recovered\n",
    "ax[0].plot(ytest_spins[:,0], xtest_spins[:,0], 'b*', zorder=-1, label='Recovered')\n",
    "ax[1].plot(ytest_spins[:,1], xtest_spins[:,1], 'b*', zorder=-1, label='Recovered')\n",
    "\n",
    "#Predicted\n",
    "ax[0].plot(ytest_spins[:,0], predicted_spins[:,0], 'go', zorder=-1, label='Predicted')       \n",
    "ax[1].plot(ytest_spins[:,1], predicted_spins[:,1], 'go', zorder=-1, label='Predicted') \n",
    "\n",
    "ax[0].set_xlabel(r'$\\chi_1$ injected', fontsize=14)\n",
    "ax[0].set_ylabel(r'$\\chi_1$ GSTLAL', fontsize=14)\n",
    "ax[0].legend(fontsize=12)\n",
    "\n",
    "ax[1].set_xlabel(r'$\\chi_2$ injected', fontsize=14)\n",
    "ax[1].set_ylabel(r'$\\chi_2$ GSTLAL', fontsize=14)\n",
    "ax[1].legend(fontsize=12)\n",
    "\n",
    "plt.tight_layout()\n",
    "outfile = '../figs/m_chi1_chi2_comparisons.png'\n",
    "plt.savefig(outfile, bbox_inches=\"tight\")\n",
    "plt.show()"
   ]
  },
  {
   "cell_type": "code",
   "execution_count": null,
   "id": "helpful-prayer",
   "metadata": {},
   "outputs": [],
   "source": [
    "# Initialize plot\n",
    "f, ax = plt.subplots(1, 2, figsize=(16, 6))\n",
    "\n",
    "#Recovered\n",
    "ax[0].plot(xtest_masses[:,0], rec_rel_err_M[:,0], 'b*', label='Recovered')\n",
    "ax[1].plot(xtest_masses[:,1], rec_rel_err_M[:,1], 'b*', label='Recovered')\n",
    "\n",
    "#Predicted\n",
    "ax[0].plot(xtest_masses[:,0], rel_err_M[:,0], 'g*', label='Predicted')\n",
    "ax[1].plot(xtest_masses[:,1], rel_err_M[:,1], 'g*', label='Predicted')\n",
    "\n",
    "\n",
    "#Linear fits\n",
    "z = np.polyfit(xtest_masses[:,0], rec_rel_err_M[:,0], 1)\n",
    "p = np.poly1d(z)\n",
    "ax[0].plot(xtest_masses[:,0], p(xtest_masses[:,0]), 'm', label='Recovered fit')\n",
    "\n",
    "z = np.polyfit(xtest_masses[:,0], rel_err_M[:,0], 1)\n",
    "p = np.poly1d(z)\n",
    "ax[0].plot(xtest_masses[:,0], p(xtest_masses[:,0]), 'r', label='Predicted fit')\n",
    "\n",
    "\n",
    "z = np.polyfit(xtest_masses[:,1], rec_rel_err_M[:,1], 1)\n",
    "p = np.poly1d(z)\n",
    "ax[1].plot(xtest_masses[:,1], p(xtest_masses[:,1]), 'm', label='Recovered fit')\n",
    "\n",
    "z = np.polyfit(xtest_masses[:,1], rel_err_M[:,1], 1)\n",
    "p = np.poly1d(z)\n",
    "ax[1].plot(xtest_masses[:,1], p(xtest_masses[:,1]), 'r', label='Predicted fit')\n",
    "\n",
    "\n",
    "ax[0].tick_params(axis='both', which='major', direction='inout', top=True, right=True, labelsize=14, pad=10)\n",
    "ax[1].tick_params(axis='both', which='major', direction='inout', top=True, right=True, labelsize=14, pad=10)\n",
    "ax[0].set_xlabel(r'$m_1$ GSTLAL', fontsize=14)\n",
    "ax[0].set_ylabel(r'$(m_1^{\\mathrm{inj}}-m_1^{\\mathrm{X}})/m_1^{\\mathrm{inj}}$', fontsize=14)\n",
    "ax[0].legend(fontsize=12)\n",
    "\n",
    "ax[1].set_xlabel(r'$m_2$ GSTLAL', fontsize=14)\n",
    "ax[1].set_ylabel(r'$(m_2^{\\mathrm{inj}}-m_2^{\\mathrm{X}})/m_2^{\\mathrm{inj}}$', fontsize=14)\n",
    "ax[1].legend(fontsize=12)\n",
    "\n",
    "plt.tight_layout()\n",
    "outfile = '../figs/m1_m2_chi_errors_and_fits.png'\n",
    "plt.savefig(outfile, bbox_inches=\"tight\")\n",
    "plt.show()"
   ]
  },
  {
   "cell_type": "code",
   "execution_count": null,
   "id": "wrong-mambo",
   "metadata": {},
   "outputs": [],
   "source": [
    "# Initialize plot\n",
    "f, ax = plt.subplots(1, 2, figsize=(16, 6))\n",
    "\n",
    "#Recovered\n",
    "ax[0].plot(xtest_spins[:,0], rec_diff_S[:,0], 'b*', label='Recovered')\n",
    "ax[1].plot(xtest_spins[:,1], rec_diff_S[:,1], 'b*', label='Recovered')\n",
    "\n",
    "#Recovered\n",
    "ax[0].plot(xtest_spins[:,0], diff_S[:,0], 'g*', label='Predicted')\n",
    "ax[1].plot(xtest_spins[:,1], diff_S[:,1], 'g*', label='Predicted')\n",
    "\n",
    "#Linear fits\n",
    "z = np.polyfit(xtest_spins[:,0], rec_diff_S[:,0], 1)\n",
    "p = np.poly1d(z)\n",
    "ax[0].plot(xtest_spins[:,0], p(xtest_spins[:,0]), 'm', label='Recovered fit')\n",
    "\n",
    "z = np.polyfit(xtest_spins[:,0], diff_S[:,0], 1)\n",
    "p = np.poly1d(z)\n",
    "ax[0].plot(xtest_spins[:,0], p(xtest_spins[:,0]), 'r', label='Predicted fit')\n",
    "\n",
    "\n",
    "z = np.polyfit(xtest_spins[:,1], rec_diff_S[:,1], 1)\n",
    "p = np.poly1d(z)\n",
    "ax[1].plot(xtest_spins[:,1], p(xtest_spins[:,1]), 'm', label='Recovered fit')\n",
    "\n",
    "z = np.polyfit(xtest_spins[:,1], diff_S[:,1], 1)\n",
    "p = np.poly1d(z)\n",
    "ax[1].plot(xtest_spins[:,1], p(xtest_spins[:,1]), 'r', label='Predicted fit')\n",
    "\n",
    "\n",
    "ax[0].tick_params(axis='both', which='major', direction='inout', top=True, right=True, labelsize=14, pad=10)\n",
    "ax[1].tick_params(axis='both', which='major', direction='inout', top=True, right=True, labelsize=14, pad=10)\n",
    "ax[0].set_xlabel(r'$\\chi_1$ GSTLAL', fontsize=14)\n",
    "ax[0].set_ylabel(r'$(\\chi_1^{\\mathrm{inj}}-\\chi_1^{\\mathrm{X}})$', fontsize=14)\n",
    "ax[0].legend(fontsize=12)\n",
    "ax[1].set_xlabel(r'$\\chi_2$ GSTLAL', fontsize=14)\n",
    "ax[1].set_ylabel(r'$(\\chi_2^{\\mathrm{inj}}-\\chi_2^{\\mathrm{X}})$', fontsize=14)\n",
    "ax[1].legend(fontsize=12)\n",
    "\n",
    "plt.tight_layout()\n",
    "outfile = '../figs/m_chi1_chi2_errors_and_fits.png'\n",
    "plt.savefig(outfile, bbox_inches=\"tight\")\n",
    "plt.show()"
   ]
  },
  {
   "cell_type": "code",
   "execution_count": null,
   "id": "mediterranean-convertible",
   "metadata": {
    "scrolled": false
   },
   "outputs": [],
   "source": [
    "fig, axis = plt.subplots(1,2, figsize=(15,5.25))\n",
    "\n",
    "combined_epsilons = [rel_err_M[:,0], rec_rel_err_M[:,0]]\n",
    "hist, bins, _ = axis[0].hist(combined_epsilons, 60)\n",
    "axis[0].clear()\n",
    "axis[0].set_xlabel(r'$\\left(y_{\\mathrm{inj}}-y_{\\mathrm{X}}\\right)/y_{\\mathrm{inj}}$', fontsize=14)\n",
    "axis[0].set_ylabel(r'Count', fontsize=14)\n",
    "axis[0].tick_params(axis='both', which='major', labelsize=14, pad=10)\n",
    "styles = ['-','-']\n",
    "labels = ['$m_1$ predicted','$m_1$ recovered']\n",
    "for_printing = ['m1 predicted','m1 recovered']\n",
    "color = ['blue','gray']\n",
    "\n",
    "for i in range(len(combined_epsilons)):\n",
    "    axis[0].hist(combined_epsilons[i], bins=bins, label=labels[i], ls=styles[i],facecolor=color[i], alpha=0.5)\n",
    "    point = axis[0].scatter(x=np.mean(combined_epsilons[i]), y=0, s=120, facecolors='none', edgecolors=color[i])\n",
    "    print('The mean error of', for_printing[i] , 'is: ',np.mean(combined_epsilons[i]))\n",
    "    point.set_clip_on(False)\n",
    "\n",
    "axis[0].scatter(x=[None],y=0, s=120, facecolors='none', color=color_cycle[0], label='$m_1$ mean')\n",
    "axis[0].legend(ncol = 1, loc=\"upper left\", fontsize=12)\n",
    "\n",
    "###################\n",
    "\n",
    "combined_epsilons = [rel_err_M[:,1], rec_rel_err_M[:,1]]\n",
    "\n",
    "hist, bins, _ = axis[1].hist(combined_epsilons, 60)\n",
    "axis[1].clear()\n",
    "axis[1].set_xlabel(r'$\\left(y_{\\mathrm{inj}}-y_{\\mathrm{X}}\\right)/y_{\\mathrm{inj}}$', fontsize=14)\n",
    "axis[1].set_ylabel(r'Count', fontsize=14)\n",
    "axis[1].tick_params(axis='both', which='major', labelsize=14, pad=10)\n",
    "styles = ['-','-']\n",
    "labels = ['$m_2$ predicted','$m_2$ recovered']\n",
    "for_printing = ['m2 predicted','m2 recovered']\n",
    "color = ['orange','gray']\n",
    "\n",
    "for i in range(len(combined_epsilons)):\n",
    "    axis[1].hist(combined_epsilons[i], bins=bins, label=labels[i], ls=styles[i],facecolor=color[i], alpha=0.5)\n",
    "    point = axis[1].scatter(x=np.mean(combined_epsilons[i]), y=0, s=120, facecolors='none', edgecolors=color[i])\n",
    "    print('The mean error of', for_printing[i] , 'is: ',np.mean(combined_epsilons[i]))\n",
    "    point.set_clip_on(False)\n",
    "    \n",
    "axis[1].scatter(x=[None],y=0, s=120, facecolors='none', color=color_cycle[0], label='$m_2$ mean')\n",
    "axis[1].legend(ncol = 1, loc=\"upper left\", fontsize=12)\n",
    "\n",
    "plt.tight_layout()\n",
    "outfile = '../figs/m1_m2_chi_error_analysis_wboxes.png'\n",
    "plt.savefig(outfile, bbox_inches=\"tight\")\n",
    "plt.show()"
   ]
  },
  {
   "cell_type": "code",
   "execution_count": null,
   "id": "falling-camcorder",
   "metadata": {},
   "outputs": [],
   "source": [
    "fig, axis = plt.subplots(1,2, figsize=(15,5.25))\n",
    "\n",
    "combined_epsilons = [rel_err_M[:,0], rec_rel_err_M[:,0]]\n",
    "\n",
    "hist, bins, _ = axis[0].hist(combined_epsilons, 100)\n",
    "axis[0].clear()\n",
    "axis[0].set_xlabel(r'$\\left(y_{\\mathrm{inj}}-y_{\\mathrm{X}}\\right)/y_{\\mathrm{inj}}$', fontsize=14)\n",
    "axis[0].set_ylabel(r'Counts', fontsize=14)\n",
    "axis[0].tick_params(axis='both', which='major', labelsize=14, pad=10)\n",
    "styles = ['-','-']\n",
    "labels = ['$m_1$ predicted','$m_1$ recovered']\n",
    "for_printing = ['m1 predicted','m1 recovered']\n",
    "\n",
    "color = ['blue','gray']\n",
    "for i in range(len(combined_epsilons)):\n",
    "    axis[0].hist(combined_epsilons[i], bins=bins, label=labels[i], ls=styles[i],facecolor=color[i], alpha=0.5)\n",
    "    point = axis[0].scatter(x=np.mean(combined_epsilons[i]), y=0, s=120, facecolors='none', edgecolors=color[i])\n",
    "    point.set_clip_on(False)\n",
    "\n",
    "axis[0].scatter(x=[None],y=0, s=120, facecolors='none', color=color_cycle[0], label='$m_1$ mean')\n",
    "axis[0].legend(ncol = 1, loc=\"upper left\", fontsize=12)\n",
    "\n",
    "###################\n",
    "\n",
    "combined_epsilons = [rel_err_M[:,1], rec_rel_err_M[:,1]]\n",
    "\n",
    "hist, bins, _ = axis[1].hist(combined_epsilons, 200)\n",
    "axis[1].clear()\n",
    "axis[1].set_xlabel(r'$\\left(y_{\\mathrm{inj}}-y_{\\mathrm{X}}\\right)/y_{\\mathrm{inj}}$', fontsize=14)\n",
    "axis[1].set_ylabel(r'Counts', fontsize=14)\n",
    "axis[1].tick_params(axis='both', which='major', labelsize=14, pad=10)\n",
    "styles = ['-','-']\n",
    "labels = ['$m_2$ predicted','$m_2$ recovered']\n",
    "for_printing = ['m2 predicted','m2 recovered']\n",
    "\n",
    "color = ['orange','gray']\n",
    "for i in range(len(combined_epsilons)):\n",
    "    axis[1].hist(combined_epsilons[i], bins=bins, label=labels[i], ls=styles[i],facecolor=color[i], alpha=0.5)\n",
    "    point = axis[1].scatter(x=np.mean(combined_epsilons[i]), y=0, s=120, facecolors='none', edgecolors=color[i])\n",
    "    point.set_clip_on(False)\n",
    "    \n",
    "axis[1].scatter(x=[None],y=0, s=120, facecolors='none', color=color_cycle[0], label='$m_2$ mean')    \n",
    "axis[1].legend(ncol = 1, loc=\"upper left\", fontsize=12)\n",
    "\n",
    "axis[0].set_xlim((-3,1))\n",
    "axis[1].set_xlim((-3,1.2))\n",
    "plt.tight_layout()\n",
    "outfile = '../figs/m1_m2_chi_error_analysis_wboxes.png'\n",
    "plt.savefig(outfile, bbox_inches=\"tight\")\n",
    "plt.show()"
   ]
  },
  {
   "cell_type": "code",
   "execution_count": null,
   "id": "least-casting",
   "metadata": {},
   "outputs": [],
   "source": [
    "fig, axis = plt.subplots(1,2, figsize=(15,5.25))\n",
    "\n",
    "combined_epsilons = [abs_rel_err_M[:,0], rec_abs_rel_err_M[:,0]]\n",
    "hist, bins, _ = axis[0].hist(combined_epsilons, 100)\n",
    "axis[0].clear()\n",
    "axis[0].set_xlabel(r'$|\\left(y_{\\mathrm{inj}}-y_{\\mathrm{X}}\\right)/y_{\\mathrm{inj}}|$', fontsize=14)\n",
    "axis[0].set_ylabel(r'Counts', fontsize=14)\n",
    "axis[0].tick_params(axis='both', which='major', labelsize=14, pad=10)\n",
    "styles = ['-','-']\n",
    "labels = ['$m_1$ predicted','$m_1$ recovered']\n",
    "for_printing = ['m1 predicted','m1 recovered']\n",
    "\n",
    "color = ['blue','gray']\n",
    "for i in range(len(combined_epsilons)):\n",
    "    axis[0].hist(combined_epsilons[i], bins=bins, label=labels[i], ls=styles[i],facecolor=color[i], alpha=0.5)\n",
    "    point = axis[0].scatter(x=np.mean(combined_epsilons[i]), y=0, s=120, facecolors='none', edgecolors=color[i])\n",
    "    print('The mean error of', for_printing[i] , 'is: ',np.mean(combined_epsilons[i]))\n",
    "    point.set_clip_on(False)\n",
    "\n",
    "axis[0].scatter(x=[None],y=0, s=120, facecolors='none', color=color_cycle[0], label='$m_1$ mean')\n",
    "axis[0].legend(ncol = 1, loc=\"upper right\", fontsize=12)\n",
    "\n",
    "###################\n",
    "\n",
    "combined_epsilons = [abs_rel_err_M[:,1], rec_abs_rel_err_M[:,1]]\n",
    "hist, bins, _ = axis[1].hist(combined_epsilons, 300)\n",
    "axis[1].clear()\n",
    "axis[1].set_xlabel(r'$|\\left(y_{\\mathrm{inj}}-y_{\\mathrm{X}}\\right)/y_{\\mathrm{inj}}|$', fontsize=14)\n",
    "axis[1].set_ylabel(r'Counts', fontsize=14)\n",
    "axis[1].tick_params(axis='both', which='major', labelsize=14, pad=10)\n",
    "styles = ['-','-']\n",
    "labels = ['$m_2$ predicted','$m_2$ recovered']\n",
    "for_printing = ['m2 predicted','m2 recovered']\n",
    "\n",
    "color = ['orange','gray']\n",
    "for i in range(len(combined_epsilons)):\n",
    "    axis[1].hist(combined_epsilons[i], bins=bins, label=labels[i], ls=styles[i],facecolor=color[i], alpha=0.5)\n",
    "    point = axis[1].scatter(x=np.mean(combined_epsilons[i]), y=0, s=120, facecolors='none', edgecolors=color[i])\n",
    "    print('The mean error of', for_printing[i] , 'is: ',np.mean(combined_epsilons[i]))\n",
    "    point.set_clip_on(False)\n",
    "    \n",
    "axis[1].scatter(x=[None],y=0, s=120, facecolors='none', color=color_cycle[0], label='$m_2$ mean')\n",
    "    \n",
    "axis[1].legend(ncol = 1, loc=\"upper right\", fontsize=12)\n",
    "axis[0].set_xlim((0,5))\n",
    "axis[1].set_xlim((0,4))\n",
    "outfile = '../figs/m_chi1_chi2_error_analysis_wboxes.png'\n",
    "plt.savefig(outfile, bbox_inches=\"tight\")\n",
    "plt.show()"
   ]
  },
  {
   "cell_type": "code",
   "execution_count": null,
   "id": "typical-affiliate",
   "metadata": {},
   "outputs": [],
   "source": [
    "fig, axis = plt.subplots(1, figsize=(7,6))\n",
    "\n",
    "combined_epsilons = [abs_rel_err_M[:,0], abs_rel_err_M[:,1]]\n",
    "\n",
    "hist, bins, _ = axis.hist(combined_epsilons, 20)\n",
    "logbins = np.logspace(np.log10(bins[0]),np.log10(bins[-1]),len(bins))\n",
    "axis.clear()\n",
    "\n",
    "axis.set_xlabel(r'$|y_{\\mathrm{inj}}-y_{\\mathrm{pred}}/y_{\\mathrm{inj}}|$', fontsize=14)\n",
    "axis.set_ylabel(r'Counts', fontsize=14)\n",
    "axis.tick_params(axis='both', which='major', labelsize=14, pad=10)\n",
    "styles = ['-','-']\n",
    "labels = ['$m_1$ errors','$m_2$ errors']\n",
    "for_printing = ['m1 predicted error','m2 predicted error']\n",
    "\n",
    "color = ['blue', 'orange']\n",
    "for i in range(len(combined_epsilons)):\n",
    "    axis.hist(combined_epsilons[i], bins=logbins, histtype=u'step', label=labels[i], color=color_cycle[i+1], ls=styles[i])\n",
    "    point = axis.scatter(x=np.mean(combined_epsilons[i]), y=0, s=120, facecolors='none', edgecolors=color_cycle[i+1])\n",
    "    print('The mean error of', for_printing[i] , 'is: ',np.mean(combined_epsilons[i]))\n",
    "    point.set_clip_on(False)\n",
    "\n",
    "axis.set_xscale('log')\n",
    "axis.legend(ncol = 1, loc=\"upper left\", fontsize=12)\n",
    "plt.show()"
   ]
  },
  {
   "cell_type": "code",
   "execution_count": null,
   "id": "hourly-extreme",
   "metadata": {},
   "outputs": [],
   "source": [
    "fig, axis = plt.subplots(1,2, figsize=(15,5.25))\n",
    "\n",
    "combined_epsilons = [diff_S[:,0], rec_diff_S[:,0]]\n",
    "\n",
    "hist, bins, _ = axis[0].hist(combined_epsilons, 30)\n",
    "axis[0].clear()\n",
    "axis[0].set_xlabel(r'$\\left(y_{\\mathrm{inj}}-y_{\\mathrm{X}}\\right)$', fontsize=14)\n",
    "axis[0].set_ylabel(r'Counts', fontsize=14)\n",
    "axis[0].tick_params(axis='both', which='major', labelsize=14, pad=10)\n",
    "styles = ['-','-']\n",
    "labels = ['$\\chi_1$ predicted','$\\chi_1$ recovered']\n",
    "for_printing = ['spin1 predicted','spin1 recovered']\n",
    "\n",
    "color = ['blue','gray']\n",
    "for i in range(len(combined_epsilons)):\n",
    "    axis[0].hist(combined_epsilons[i], bins=bins, label=labels[i], ls=styles[i],facecolor=color[i], alpha=0.5)\n",
    "    point = axis[0].scatter(x=np.mean(combined_epsilons[i]), y=0, s=120, facecolors='none', edgecolors=color[i])\n",
    "    print('The mean error of', for_printing[i] , 'is: ',np.mean(combined_epsilons[i]))\n",
    "    point.set_clip_on(False)\n",
    "\n",
    "axis[0].scatter(x=[None],y=0, s=120, facecolors='none', color=color_cycle[0], label='$m_1$ mean')\n",
    "axis[0].legend(ncol = 1, loc=\"upper left\", fontsize=12)\n",
    "\n",
    "###################\n",
    "\n",
    "combined_epsilons = [diff_S[:,1], rec_diff_S[:,1]]\n",
    "\n",
    "hist, bins, _ = axis[1].hist(combined_epsilons, 30)\n",
    "axis[1].clear()\n",
    "axis[1].set_xlabel(r'$\\left(y_{\\mathrm{inj}}-y_{\\mathrm{X}}\\right)$', fontsize=14)\n",
    "axis[1].set_ylabel(r'Counts', fontsize=14)\n",
    "axis[1].tick_params(axis='both', which='major', labelsize=14, pad=10)\n",
    "styles = ['-','-']\n",
    "labels = ['$\\chi_2$ predicted','$\\chi_2$ recovered']\n",
    "for_printing = ['spin2 predicted','spin2 recovered']\n",
    "\n",
    "color = ['orange','gray']\n",
    "for i in range(len(combined_epsilons)):\n",
    "    axis[1].hist(combined_epsilons[i], bins=bins, label=labels[i], ls=styles[i],facecolor=color[i], alpha=0.5)\n",
    "    point = axis[1].scatter(x=np.mean(combined_epsilons[i]), y=0, s=120, facecolors='none', edgecolors=color[i])\n",
    "    print('The mean error of', for_printing[i] , 'is: ',np.mean(combined_epsilons[i]))\n",
    "    point.set_clip_on(False)\n",
    "    \n",
    "axis[1].scatter(x=[None],y=0, s=120, facecolors='none', color=color_cycle[0], label='$m_2$ mean')    \n",
    "axis[1].legend(ncol = 1, loc=\"upper left\", fontsize=12)\n",
    "\n",
    "plt.tight_layout()\n",
    "outfile = '../figs/m_chi1_chi2_error_analysis_wboxes.png'\n",
    "plt.savefig(outfile, bbox_inches=\"tight\")\n",
    "plt.show()"
   ]
  },
  {
   "cell_type": "code",
   "execution_count": null,
   "id": "designing-democracy",
   "metadata": {
    "scrolled": false
   },
   "outputs": [],
   "source": [
    "fig, axis = plt.subplots(1,2, figsize=(15,5.25))\n",
    "\n",
    "combined_epsilons = [abs_diff_S[:,0], rec_abs_diff_S[:,0]]\n",
    "\n",
    "hist, bins, _ = axis[0].hist(combined_epsilons, 30)\n",
    "axis[0].clear()\n",
    "axis[0].set_xlabel(r'$|y_{\\mathrm{inj}}-y_{\\mathrm{pred}}|$', fontsize=14)\n",
    "axis[0].set_ylabel(r'Counts', fontsize=14)\n",
    "axis[0].tick_params(axis='both', which='major', labelsize=14, pad=10)\n",
    "styles = ['-','-']\n",
    "labels = ['$\\chi_1$ predicted','$\\chi_1$ recovered']\n",
    "for_printing = ['spin1 predicted','spin1 recovered']\n",
    "\n",
    "color = ['blue','gray']\n",
    "for i in range(len(combined_epsilons)):\n",
    "    axis[0].hist(combined_epsilons[i], bins=bins, label=labels[i], ls=styles[i],facecolor=color[i], alpha=0.5)\n",
    "    point = axis[0].scatter(x=np.mean(combined_epsilons[i]), y=0, s=120, facecolors='none', edgecolors=color[i])\n",
    "    print('The mean error of', for_printing[i] , 'is: ',np.mean(combined_epsilons[i]))\n",
    "    point.set_clip_on(False)\n",
    "\n",
    "axis[0].scatter(x=[None],y=0, s=120, facecolors='none', color=color_cycle[0], label='$m_1$ mean')\n",
    "axis[0].legend(ncol = 1, loc=\"upper right\", fontsize=12)\n",
    "\n",
    "###################\n",
    "\n",
    "combined_epsilons = [abs_diff_S[:,1], rec_abs_diff_S[:,1]]\n",
    "\n",
    "hist, bins, _ = axis[1].hist(combined_epsilons, 30)\n",
    "axis[1].clear()\n",
    "axis[1].set_xlabel(r'$|y_{\\mathrm{inj}}-y_{\\mathrm{pred}}|$', fontsize=14)\n",
    "axis[1].set_ylabel(r'Counts', fontsize=14)\n",
    "axis[1].tick_params(axis='both', which='major', labelsize=14, pad=10)\n",
    "styles = ['-','-']\n",
    "labels = ['$\\chi_2$ predicted','$\\chi_2$ recovered']\n",
    "for_printing = ['spin2 predicted','spin2 recovered']\n",
    "\n",
    "color = ['orange','gray']\n",
    "for i in range(len(combined_epsilons)):\n",
    "    axis[1].hist(combined_epsilons[i], bins=bins, label=labels[i], ls=styles[i],facecolor=color[i], alpha=0.5)\n",
    "    point = axis[1].scatter(x=np.mean(combined_epsilons[i]), y=0, s=120, facecolors='none', edgecolors=color[i])\n",
    "    print('The mean error of', for_printing[i] , 'is: ',np.mean(combined_epsilons[i]))\n",
    "    point.set_clip_on(False)\n",
    "    \n",
    "axis[1].scatter(x=[None],y=0, s=120, facecolors='none', color=color_cycle[0], label='$m_2$ mean')    \n",
    "axis[1].legend(ncol = 1, loc=\"upper right\", fontsize=12)\n",
    "plt.tight_layout()\n",
    "plt.show()"
   ]
  },
  {
   "cell_type": "code",
   "execution_count": null,
   "id": "bound-nursing",
   "metadata": {},
   "outputs": [],
   "source": []
  }
 ],
 "metadata": {
  "kernelspec": {
   "display_name": "Python 3",
   "language": "python",
   "name": "python3"
  },
  "language_info": {
   "codemirror_mode": {
    "name": "ipython",
    "version": 3
   },
   "file_extension": ".py",
   "mimetype": "text/x-python",
   "name": "python",
   "nbconvert_exporter": "python",
   "pygments_lexer": "ipython3",
   "version": "3.7.6"
  }
 },
 "nbformat": 4,
 "nbformat_minor": 5
}
