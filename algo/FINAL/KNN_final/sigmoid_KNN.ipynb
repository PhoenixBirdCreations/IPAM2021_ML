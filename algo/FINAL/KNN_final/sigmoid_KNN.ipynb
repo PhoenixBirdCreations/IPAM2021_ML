{
 "cells": [
  {
   "cell_type": "code",
   "execution_count": 51,
   "id": "fd8db996",
   "metadata": {},
   "outputs": [
    {
     "data": {
      "text/plain": [
       "<module 'KNNclassy' from '/home/miquelmiravet/University/Doctorat/Projects/IPAM_ML/KNN_miq/KNNclassy.py'>"
      ]
     },
     "execution_count": 51,
     "metadata": {},
     "output_type": "execute_result"
    }
   ],
   "source": [
    "import KNNclassy\n",
    "import numpy as np\n",
    "import random\n",
    "import matplotlib.pyplot as plt\n",
    "import seaborn as sns\n",
    "import importlib\n",
    "importlib.reload(KNNclassy)"
   ]
  },
  {
   "cell_type": "code",
   "execution_count": 100,
   "id": "12cde220",
   "metadata": {},
   "outputs": [],
   "source": [
    "def SIG_NS(algo, thr):\n",
    "    allprob = algo.metrics[\"probab\"]\n",
    "    v_prob_NS = 1-allprob[:,0]\n",
    "    nplus = v_prob_NS*algo.optimal[\"k\"]\n",
    "    for i in range(0,len(nplus)):\n",
    "        nplus[i] = int(round(nplus[i]))\n",
    "    total_events = len(algo.xtest)\n",
    "    events_have_NS = np.where((algo.label_test==1) | (algo.label_test==2))[0]\n",
    "    N = len(events_have_NS)\n",
    "    M = len(algo.label_test) - N\n",
    "    index_say_yes = np.where(v_prob_NS>=thr)[0]\n",
    "    index_say_no  = np.where(v_prob_NS <thr)[0]\n",
    "    count = np.zeros(total_events)\n",
    "    \n",
    "    for i in range(0,total_events):\n",
    "        if i in index_say_yes:\n",
    "            if i in events_have_NS:\n",
    "                count[i] = 1\n",
    "            elif i not in events_have_NS:\n",
    "                count[i] = 0\n",
    "        elif i not in index_say_no:\n",
    "            if i in events_have_NS:\n",
    "                count[i] = 0\n",
    "            elif i not in events_have_NS:\n",
    "                count[i] = 1  \n",
    "                \n",
    "    Pbayes = []\n",
    "    \n",
    "    for i in range(0,int(algo.optimal[\"k\"]+1)):\n",
    "        indices = np.where(nplus == i)\n",
    "        events_n = count[indices]\n",
    "        TP = np.sum(events_n)\n",
    "        FP = len(events_n)-TP\n",
    "        Pbayes.append(TP/(TP+FP))\n",
    "    \n",
    "    return Pbayes\n",
    "\n",
    "def SIG_REM(algo, thr):\n",
    "    allprob = algo.metrics[\"probab\"]\n",
    "    v_prob_REM = allprob[:,2]\n",
    "    nplus = v_prob_REM*algo.optimal[\"k\"]\n",
    "    for i in range(0,len(nplus)):\n",
    "        nplus[i] = int(round(nplus[i]))\n",
    "    total_events = len(algo.xtest)\n",
    "    events_have_REM = np.where(algo.label_test==2)[0]\n",
    "    N = len(events_have_REM)\n",
    "    M = len(algo.label_test) - N\n",
    "    index_say_yes = np.where(v_prob_REM>=thr)[0]\n",
    "    index_say_no  = np.where(v_prob_REM <thr)[0]\n",
    "    count = np.zeros(total_events)\n",
    "    \n",
    "    for i in range(0,total_events):\n",
    "        if i in index_say_yes:\n",
    "            if i in events_have_REM:\n",
    "                count[i] = 1\n",
    "            elif i not in events_have_REM:\n",
    "                count[i] = 0\n",
    "        elif i not in index_say_no:\n",
    "            if i in events_have_REM:\n",
    "                count[i] = 0\n",
    "            elif i not in events_have_REM:\n",
    "                count[i] = 1       \n",
    "    \n",
    "    Pbayes = []\n",
    "    \n",
    "    for i in range(0,int(algo.optimal[\"k\"]+1)):\n",
    "        indices = np.where(nplus == i)\n",
    "        events_n = count[indices]\n",
    "        TP = np.sum(events_n)\n",
    "        FP = len(events_n)-TP\n",
    "        Pbayes.append(TP/(TP+FP))\n",
    "        \n",
    "    \n",
    "    return Pbayes"
   ]
  },
  {
   "cell_type": "code",
   "execution_count": 101,
   "id": "2b73c336",
   "metadata": {},
   "outputs": [],
   "source": [
    "frac_testing = 0.3\n",
    "nneigh = [10]\n",
    "pathClassy = \"/home/miquelmiravet/University/Doctorat/Projects/IPAM_ML/KNN_miq/\"\n",
    "pathData = \"/home/miquelmiravet/University/Doctorat/Projects/IPAM_ML/KNN_miq/input/\"\n",
    "EOS = [\"APR4_EPP\", \"BHF_BBB2\", \"H4\", \"HQC18\", \"KDE0V\", \"KDE0V1\", \"MPA1\", \"MS1_PP\", \"MS1B_PP\", \"RS\", \"SK255\", \"SK272\", \"SKI2\", \"SKI3\", \"SKI4\", \"SKI5\", \"SKI6\", \"SKMP\", \"SKOP\", \"SLy\", \"SLY2\", \"SLY9\", \"SLY230A\"]\n",
    "EOSgrey = [\"APR4_EPP\",  \"H4\", \"HQC18\", \"KDE0V\", \"KDE0V1\", \"MPA1\", \"MS1B_PP\", \"RS\", \"SK255\", \"SK272\", \"SKI2\", \"SKI3\", \"SKI4\", \"SKI5\", \"SKI6\", \"SKMP\", \"SKOP\", \"SLY2\", \"SLY9\", \"SLY230A\"]\n",
    "EOScolor = [\"BHF_BBB2\", \"MS1_PP\", \"SLy\"]\n",
    "BayesFactor = [1.526, 1.555, 0.056, 1.422, 1.177, 1.283, 0.276, 0.001, 0.009, 0.176, 0.179, 0.159, 0.108, 0.107, 0.33, 0.025, 0.288, 0.29, 0.618, 1.0, 1.028, 0.37, 0.932]"
   ]
  },
  {
   "cell_type": "code",
   "execution_count": 102,
   "id": "e0416d8e",
   "metadata": {},
   "outputs": [],
   "source": [
    "EOSdic = {}\n",
    "sig_dic = {}\n",
    "count = 0\n",
    "EOS = ['SLy']"
   ]
  },
  {
   "cell_type": "code",
   "execution_count": 103,
   "id": "f670938d",
   "metadata": {},
   "outputs": [
    {
     "name": "stdout",
     "output_type": "stream",
     "text": [
      "Doing SLy\n",
      "************************************************************\n",
      "Nº of neighbors:  10\n",
      "----------------------------------------\n",
      "File shape :  (196264, 11)\n",
      "[ 1.006907  1.726921  1.172679 ... 79.196968 66.51236  59.432453]\n",
      "************************************************************\n",
      "Loading data...\n",
      "Nº of features:  5\n",
      "Nº of events:  196264\n",
      "Nº of events for training:  137385\n",
      "Nº of events for testing:  58879\n",
      "Datasets loaded!\n",
      "************************************************************\n",
      "************************************************************\n",
      "Training model...\n",
      "Training time (s) :  0.0692971390672028\n",
      "************************************************************\n",
      "Model score :  0.949727407055147\n",
      "Predicting probabilities...\n",
      "Testing time (s) :  1.8286196499830112\n",
      "************************************************************\n"
     ]
    }
   ],
   "source": [
    "for eos in EOS:\n",
    "    \n",
    "    print(\"Doing\", eos)\n",
    "    print('*'*60)\n",
    "    \n",
    "    new_dic_sig = {}\n",
    "    sig_dic[eos] = new_dic_sig\n",
    "    \n",
    "    sig_dic[eos]['NSn+'] = []\n",
    "    sig_dic[eos]['REMn+'] = []\n",
    "    sig_dic[eos]['NS_Pbayes'] = []\n",
    "    sig_dic[eos]['REM_Pbayes'] = []\n",
    "\n",
    "    for kk in nneigh:\n",
    "        \n",
    "        print(\"Nº of neighbors: \", kk)\n",
    "        print('-'*40)\n",
    "\n",
    "        KNN = KNNclassy.ClassificationKNN()\n",
    "        KNN.load_original_dataset(pathData,eos+\"/EMB/original_data_\"+eos+\"_s300_f0d7.csv\",frac_testing)\n",
    "    \n",
    "        KNN.optimal = {}\n",
    "        KNN.optimal[\"k\"] = kk\n",
    "        KNN.optimal[\"metric\"] = 'manhattan'\n",
    "        KNN.optimal[\"algo\"] = 'ball_tree'\n",
    "        KNN.optimal[\"weight\"] = 'distance'\n",
    "\n",
    "        KNN.build_train_model(KNN.optimal[\"k\"] , KNN.optimal[\"metric\"], KNN.optimal[\"algo\"], KNN.optimal[\"weight\"])\n",
    "        \n",
    "        new_dic = {}\n",
    "        new_dic['knn'] = KNN\n",
    "        new_dic['bayes'] = BayesFactor[count]\n",
    "        EOSdic[eos] = new_dic\n",
    "        \n",
    "        KNN.compute_metrics()\n",
    "\n",
    "        EOSdic[eos]['score'] = KNN.metrics['score']\n",
    "        params_model = KNN.model.get_params()\n",
    "        EOSdic[eos]['n_neigh'] = params_model.get('n_neighbors')\n",
    "        EOSdic[eos]['metric'] = params_model.get('metric')\n",
    "        EOSdic[eos]['algo'] = params_model.get('algorithm')\n",
    "        EOSdic[eos]['weight'] = params_model.get('weights')\n",
    "        \n",
    "        EOSdic[eos]['NS_Pbayes'] = SIG_NS(KNN, thr = 0.5)\n",
    "        EOSdic[eos]['REM_Pbayes'] = SIG_REM(KNN, thr = 0.5)\n",
    "        \n",
    "        sig_dic[eos]['NS_Pbayes'].append(EOSdic[eos]['NS_Pbayes'])\n",
    "        sig_dic[eos]['REM_Pbayes'].append(EOSdic[eos]['REM_Pbayes'])\n",
    "    \n",
    "        print('*'*60)\n",
    "        \n",
    "    count = count + 1\n",
    "        "
   ]
  },
  {
   "cell_type": "code",
   "execution_count": 110,
   "id": "b3938785",
   "metadata": {},
   "outputs": [],
   "source": [
    "from scipy.optimize import curve_fit\n",
    "def sigmoid(x, L ,x0, k, b):\n",
    "    y = L / (1 + np.exp(-k*(x-x0))) + b\n",
    "    return (y)\n"
   ]
  },
  {
   "cell_type": "code",
   "execution_count": 129,
   "id": "69d19b48",
   "metadata": {},
   "outputs": [
    {
     "data": {
      "image/png": "[encoded data removed]",
      "text/plain": [
       "<Figure size 720x432 with 1 Axes>"
      ]
     },
     "metadata": {
      "needs_background": "light"
     },
     "output_type": "display_data"
    }
   ],
   "source": [
    "p0 = [max(P_bayes_NS[0,:]), np.median(n_k),1,min(P_bayes_NS[0,:])] # this is an mandatory initial guess\n",
    "\n",
    "popt, pcov = curve_fit(sigmoid, n_k, P_bayes_NS[0,:],p0, method='dogbox')\n",
    "\n",
    "x = np.linspace(0, 10, 50)\n",
    "y = sigmoid(x, *popt)\n",
    "\n",
    "plt.figure(figsize=(10,6))\n",
    "plt.plot(n_k, P_bayes_NS[0,:], 'o', label='data')\n",
    "plt.title('HasNS', fontsize = 22)\n",
    "plt.xlabel(r'$n_+$', fontsize = 20)\n",
    "plt.ylabel(r'$P(s|n_+)$', fontsize = 20)\n",
    "plt.plot(x,y, label='fit')\n",
    "plt.ylim(-0.05, 1.05)\n",
    "plt.legend(loc='best', fontsize = 20)\n",
    "plt.xticks(fontsize=18)\n",
    "plt.yticks(fontsize=18)\n",
    "plt.show()"
   ]
  },
  {
   "cell_type": "code",
   "execution_count": 130,
   "id": "dd1c04df",
   "metadata": {},
   "outputs": [
    {
     "data": {
      "image/png": "[encoded data removed]",
      "text/plain": [
       "<Figure size 720x432 with 1 Axes>"
      ]
     },
     "metadata": {
      "needs_background": "light"
     },
     "output_type": "display_data"
    }
   ],
   "source": [
    "p0 = [max(P_bayes_REM[0,:]), np.median(n_k),1,min(P_bayes_REM[0,:])] # this is an mandatory initial guess\n",
    "\n",
    "popt, pcov = curve_fit(sigmoid, n_k, P_bayes_REM[0,:],p0, method='dogbox')\n",
    "\n",
    "x = np.linspace(0, 10, 50)\n",
    "y = sigmoid(x, *popt)\n",
    "\n",
    "plt.figure(figsize=(10,6))\n",
    "plt.plot(n_k, P_bayes_REM[0,:], 'o', label='data')\n",
    "plt.title('HasREM', fontsize = 22)\n",
    "plt.xlabel(r'$n_+$', fontsize = 20)\n",
    "plt.ylabel(r'$P(s|n_+)$', fontsize = 20)\n",
    "plt.plot(x,y, label='fit')\n",
    "plt.ylim(-0.05, 1.05)\n",
    "plt.legend(loc='best', fontsize = 20)\n",
    "plt.xticks(fontsize=18)\n",
    "plt.yticks(fontsize=18)\n",
    "plt.show()"
   ]
  },
  {
   "cell_type": "code",
   "execution_count": null,
   "id": "b5282674",
   "metadata": {},
   "outputs": [],
   "source": []
  }
 ],
 "metadata": {
  "kernelspec": {
   "display_name": "Python 3 (ipykernel)",
   "language": "python",
   "name": "python3"
  },
  "language_info": {
   "codemirror_mode": {
    "name": "ipython",
    "version": 3
   },
   "file_extension": ".py",
   "mimetype": "text/x-python",
   "name": "python",
   "nbconvert_exporter": "python",
   "pygments_lexer": "ipython3",
   "version": "3.10.6"
  }
 },
 "nbformat": 4,
 "nbformat_minor": 5
}
