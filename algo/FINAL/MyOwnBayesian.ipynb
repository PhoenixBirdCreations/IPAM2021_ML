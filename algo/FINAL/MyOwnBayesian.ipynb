{
 "cells": [
  {
   "cell_type": "code",
   "execution_count": 1,
   "id": "4b67dcbe",
   "metadata": {},
   "outputs": [],
   "source": [
    "import warnings\n",
    "warnings.filterwarnings('ignore')\n",
    "import classyRF_final as classyRF\n",
    "import numpy as np\n",
    "import matplotlib.pyplot as plt"
   ]
  },
  {
   "cell_type": "code",
   "execution_count": 2,
   "id": "bcc768de",
   "metadata": {},
   "outputs": [],
   "source": [
    "EOS = [\"APR4_EPP\", \"BHF_BBB2\", \"H4\", \"HQC18\", \"KDE0V\", \"KDE0V1\", \"MPA1\", \"MS1_PP\", \"MS1B_PP\", \"RS\", \"SK255\", \"SK272\", \"SKI2\", \"SKI3\", \"SKI4\", \"SKI5\", \"SKI6\", \"SKMP\", \"SKOP\", \"SLy\", \"SLY2\", \"SLY9\", \"SLY230A\"]\n",
    "BayesFactor=[1.526, 1.555, 0.056, 1.422, 1.177, 1.283, 0.276, 0.001, 0.009, 0.176, 0.179, 0.159, 0.108, 0.107, 0.33, 0.025, 0.288, 0.29, 0.618, 1.0, 1.028, 0.37, 0.932]\n",
    "EOSTest = [\"APR4_EPP\", \"BHF_BBB2\"]\n",
    "EOScolor = ['BHF_BBB2', 'SLy', 'MS1B_PP']\n",
    "color_v = ['orange', 'green', 'blue']\n",
    "\n",
    "i_m1r=1; i_m2r=2; i_x1r=3; i_x2r=4; i_snr=8;\n",
    "recovered=[i_m1r, i_m2r, i_x1r, i_x2r, i_snr]"
   ]
  },
  {
   "cell_type": "code",
   "execution_count": 6,
   "id": "3f6c9f2a",
   "metadata": {},
   "outputs": [],
   "source": [
    "pathData = \"C:\\\\Users\\\\marin\\\\Desktop\\\\ML_workingGroup\\\\allEOS\\\\\"\n",
    "pathClassy = \"C:\\\\Users\\\\marin\\\\Desktop\\\\ML_workingGroup\\\\FINAL\\\\\"\n",
    "pathForest = \"C:\\\\Users\\\\marin\\\\Desktop\\\\ML_workingGroup\\\\FINAL\\\\Sushant_forests_2\\\\\""
   ]
  },
  {
   "cell_type": "code",
   "execution_count": 7,
   "id": "5754d01f",
   "metadata": {},
   "outputs": [],
   "source": [
    "EOSdic = {}\n",
    "count = 0\n",
    "for eos in EOS:\n",
    "    new_dic = {}\n",
    "    RF = classyRF.ClassificationRF()\n",
    "    RF.loadPickle(pathForest+eos)\n",
    "    RF.load_test_dataset(pathData+eos+'\\\\EMB\\\\', 'test_EMB_ID_LABEL_'+eos+'_s300_f0d7.csv')\n",
    "    new_dic['label_REM'] = RF.labels_test\n",
    "    aux = RF.labels_test\n",
    "    RF.load_test_dataset(pathData+eos+'\\\\NS\\\\', 'test_NS_ID_LABEL_'+eos+'_s300_f0d7.csv')\n",
    "    new_dic['label_NS'] = RF.labels_test\n",
    "    RF.labels_test = RF.labels_test + aux\n",
    "    RF.subset_test(recovered)\n",
    "    new_dic['forest'] = RF\n",
    "    new_dic['weight'] = BayesFactor[count]\n",
    "    EOSdic[eos] = new_dic\n",
    "    count = count + 1 "
   ]
  },
  {
   "cell_type": "markdown",
   "id": "39a46983",
   "metadata": {},
   "source": [
    "# Compute Bayesian using O2 test set"
   ]
  },
  {
   "cell_type": "markdown",
   "id": "5d88f244",
   "metadata": {},
   "source": [
    "$$ P(HasNS|X)= \\dfrac{\\text{events with NS giving X}}{\\text{events giving X}}$$"
   ]
  },
  {
   "cell_type": "code",
   "execution_count": 8,
   "id": "660f4e60",
   "metadata": {},
   "outputs": [],
   "source": [
    "#X is trees say 1 + trees say 2"
   ]
  },
  {
   "cell_type": "markdown",
   "id": "c8b25c71",
   "metadata": {},
   "source": [
    "### Compute what the forest say for an event, and save f1+f2, f2"
   ]
  },
  {
   "cell_type": "code",
   "execution_count": 28,
   "id": "2300e718",
   "metadata": {},
   "outputs": [],
   "source": [
    "N = len(EOSdic['APR4_EPP']['forest'].data_test)\n",
    "eos = 'APR4_EPP'\n",
    "EOSdic[eos]['f1+f2'] = np.zeros(N)\n",
    "EOSdic[eos]['f2'] = np.zeros(N)\n",
    "for i in range(0, 50):\n",
    "    predictions_trees= EOSdic[eos]['forest'].model.estimators_[i].predict(EOSdic[eos]['forest'].data_test)\n",
    "    for k in range(0, N):\n",
    "        if predictions_trees[k] == 1:\n",
    "            EOSdic[eos]['f1+f2'][k] = EOSdic[eos]['f1+f2'][k] + 1\n",
    "        if predictions_trees[k] == 2:\n",
    "            EOSdic[eos]['f1+f2'][k] = EOSdic[eos]['f1+f2'][k] + 1\n",
    "            EOSdic[eos]['f2'][k] = EOSdic[eos]['f2'][k] + 1    \n",
    "    "
   ]
  },
  {
   "cell_type": "code",
   "execution_count": 31,
   "id": "a37ff994",
   "metadata": {},
   "outputs": [
    {
     "data": {
      "image/png": "[encoded data removed]",
      "text/plain": [
       "<Figure size 640x480 with 1 Axes>"
      ]
     },
     "metadata": {},
     "output_type": "display_data"
    }
   ],
   "source": [
    "plt.title('Count of events by f1+f2')\n",
    "_=plt.hist(EOSdic[eos]['f1+f2'])"
   ]
  },
  {
   "cell_type": "markdown",
   "id": "8ba02e1a",
   "metadata": {},
   "source": [
    "The histogram shows that we barely have any information when there is an intermediate number of trees in f1+f2. This is bad for etrapolating a probability"
   ]
  },
  {
   "cell_type": "markdown",
   "id": "8bfac2dc",
   "metadata": {},
   "source": [
    "## Compute ROC curves of O2 test set Bayesian Probabilities"
   ]
  },
  {
   "cell_type": "code",
   "execution_count": 47,
   "id": "b8394b6a",
   "metadata": {},
   "outputs": [],
   "source": [
    "index_NS = np.where(EOSdic[eos]['label_NS']==1)[0]"
   ]
  },
  {
   "cell_type": "code",
   "execution_count": 58,
   "id": "ce9add72",
   "metadata": {},
   "outputs": [
    {
     "data": {
      "text/plain": [
       "38972"
      ]
     },
     "execution_count": 58,
     "metadata": {},
     "output_type": "execute_result"
    }
   ],
   "source": [
    "len(index_NS)"
   ]
  },
  {
   "cell_type": "code",
   "execution_count": 51,
   "id": "eff6e86e",
   "metadata": {},
   "outputs": [
    {
     "name": "stdout",
     "output_type": "stream",
     "text": [
      "341\n"
     ]
    }
   ],
   "source": [
    "print(np.count_nonzero(EOSdic[eos]['f1+f2']==2))"
   ]
  },
  {
   "cell_type": "code",
   "execution_count": 59,
   "id": "ce5b2c71",
   "metadata": {},
   "outputs": [
    {
     "data": {
      "text/plain": [
       "9"
      ]
     },
     "execution_count": 59,
     "metadata": {},
     "output_type": "execute_result"
    }
   ],
   "source": [
    "np.count_nonzero(EOSdic[eos]['f1+f2'][index_NS]==2)"
   ]
  },
  {
   "cell_type": "code",
   "execution_count": null,
   "id": "c46428b3",
   "metadata": {},
   "outputs": [],
   "source": [
    " # Events giving X: np.count_nonzero(EOSdic[eos]['f1+f2']==X)\n",
    " # Events with NS giving X: np.count_nonzero(EOSdic[eos]['f1+f2'][index_NS]==X)"
   ]
  },
  {
   "cell_type": "code",
   "execution_count": 60,
   "id": "2da46910",
   "metadata": {},
   "outputs": [],
   "source": [
    "EOSdic[eos]['Bayesian'] = np.zeros(51)\n",
    "for i in range(0,51):\n",
    "    EOSdic[eos]['Bayesian'][i]=np.count_nonzero(EOSdic[eos]['f1+f2'][index_NS]==i)/np.count_nonzero(EOSdic[eos]['f1+f2']==i)"
   ]
  },
  {
   "cell_type": "code",
   "execution_count": 65,
   "id": "80873a7c",
   "metadata": {},
   "outputs": [
    {
     "data": {
      "image/png": "[encoded data removed]",
      "text/plain": [
       "<Figure size 640x480 with 1 Axes>"
      ]
     },
     "metadata": {},
     "output_type": "display_data"
    }
   ],
   "source": [
    "plt.scatter(np.linspace(0,1,51), EOSdic[eos]['Bayesian'])\n",
    "plt.grid()"
   ]
  },
  {
   "cell_type": "markdown",
   "id": "ff98eb47",
   "metadata": {},
   "source": [
    "Analysis: from what numbers do we obtain this curve?"
   ]
  },
  {
   "cell_type": "code",
   "execution_count": 66,
   "id": "95409f2d",
   "metadata": {},
   "outputs": [
    {
     "name": "stdout",
     "output_type": "stream",
     "text": [
      "16 / 17344\n",
      "6 / 694\n",
      "9 / 341\n",
      "5 / 216\n",
      "6 / 180\n",
      "3 / 121\n",
      "4 / 105\n",
      "3 / 102\n",
      "6 / 94\n",
      "4 / 82\n",
      "7 / 62\n",
      "10 / 71\n",
      "9 / 67\n",
      "16 / 85\n",
      "15 / 82\n",
      "7 / 56\n",
      "14 / 55\n",
      "11 / 54\n",
      "15 / 53\n",
      "14 / 52\n",
      "20 / 55\n",
      "24 / 63\n",
      "25 / 68\n",
      "30 / 70\n",
      "18 / 51\n",
      "33 / 64\n",
      "28 / 57\n",
      "32 / 74\n",
      "44 / 70\n",
      "42 / 68\n",
      "38 / 75\n",
      "51 / 83\n",
      "44 / 76\n",
      "46 / 62\n",
      "49 / 71\n",
      "48 / 77\n",
      "56 / 79\n",
      "59 / 96\n",
      "87 / 107\n",
      "74 / 102\n",
      "95 / 118\n",
      "89 / 116\n",
      "107 / 143\n",
      "114 / 145\n",
      "139 / 160\n",
      "177 / 213\n",
      "221 / 253\n",
      "322 / 354\n",
      "550 / 590\n",
      "1567 / 1604\n",
      "34563 / 34608\n"
     ]
    }
   ],
   "source": [
    "for i in range(0,51):\n",
    "    print(np.count_nonzero(EOSdic[eos]['f1+f2'][index_NS]==i),\"/\",np.count_nonzero(EOSdic[eos]['f1+f2']==i))"
   ]
  },
  {
   "cell_type": "markdown",
   "id": "0dadfd13",
   "metadata": {},
   "source": [
    "Conclusion: there are not enough events to construct a bayesian probability when the fraction of forests is far from the extremes. There are 50 different fractions to separate, the events are too distributed. For HasREM this is even more noticeable.\n",
    "\n",
    "In KNN the events are distributed only in 8 different fractions (neighbours), so the probabilities are more fundamented, the curves are more reliable: the final application is more trustworthy => better ROC"
   ]
  },
  {
   "cell_type": "code",
   "execution_count": null,
   "id": "6a001838",
   "metadata": {},
   "outputs": [],
   "source": []
  }
 ],
 "metadata": {
  "kernelspec": {
   "display_name": "Python 3 (ipykernel)",
   "language": "python",
   "name": "python3"
  },
  "language_info": {
   "codemirror_mode": {
    "name": "ipython",
    "version": 3
   },
   "file_extension": ".py",
   "mimetype": "text/x-python",
   "name": "python",
   "nbconvert_exporter": "python",
   "pygments_lexer": "ipython3",
   "version": "3.9.13"
  }
 },
 "nbformat": 4,
 "nbformat_minor": 5
}
