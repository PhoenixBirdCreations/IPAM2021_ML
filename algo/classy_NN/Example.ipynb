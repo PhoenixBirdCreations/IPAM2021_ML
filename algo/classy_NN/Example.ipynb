{
 "cells": [
  {
   "cell_type": "code",
   "execution_count": 1,
   "id": "cfeb46dd",
   "metadata": {},
   "outputs": [
    {
     "data": {
      "application/javascript": [
       "IPython.OutputArea.prototype._should_scroll = function(lines) {\n",
       "    return false;\n",
       "}\n"
      ],
      "text/plain": [
       "<IPython.core.display.Javascript object>"
      ]
     },
     "metadata": {},
     "output_type": "display_data"
    }
   ],
   "source": [
    "%%javascript\n",
    "IPython.OutputArea.prototype._should_scroll = function(lines) {\n",
    "    return false;\n",
    "}"
   ]
  },
  {
   "cell_type": "code",
   "execution_count": 2,
   "id": "e661d2f1",
   "metadata": {},
   "outputs": [],
   "source": [
    "import classyNN\n",
    "import numpy as np\n",
    "import matplotlib.pyplot as plt"
   ]
  },
  {
   "cell_type": "code",
   "execution_count": 3,
   "id": "8986eed8",
   "metadata": {},
   "outputs": [],
   "source": [
    "path = \"/home/simone/repos/IPAM2021_ML/datasets/GSTLAL_EarlyWarning_Dataset/Dataset/m1m2Mc/\""
   ]
  },
  {
   "cell_type": "code",
   "execution_count": 4,
   "id": "d70bd865",
   "metadata": {},
   "outputs": [
    {
     "name": "stdout",
     "output_type": "stream",
     "text": [
      "No output-intervals specified, using MinMaxScaler\n",
      "\n",
      "Final loss     : 0.00928\n",
      "Final R2 mean  : 0.83542\n",
      "R2[ 0]         : 0.72756\n",
      "R2[ 1]         : 0.77879\n",
      "R2[ 2]         : 0.99990\n"
     ]
    }
   ],
   "source": [
    "myNN = classyNN.NeuralNetwork(Nfeatures=3, verbose=False, epochs=10)\n",
    "myNN.load_train_dataset(path, 'xtrain.csv', 'ytrain.csv')\n",
    "\n",
    "myNN.training()\n",
    "\n",
    "myNN.load_test_dataset(path, 'xtest.csv', 'ytest.csv')\n",
    "myNN.compute_metrics_dict()\n",
    "myNN.print_metrics()"
   ]
  }
 ],
 "metadata": {
  "kernelspec": {
   "display_name": "Python 3",
   "language": "python",
   "name": "python3"
  },
  "language_info": {
   "codemirror_mode": {
    "name": "ipython",
    "version": 3
   },
   "file_extension": ".py",
   "mimetype": "text/x-python",
   "name": "python",
   "nbconvert_exporter": "python",
   "pygments_lexer": "ipython3",
   "version": "3.8.10"
  }
 },
 "nbformat": 4,
 "nbformat_minor": 5
}
