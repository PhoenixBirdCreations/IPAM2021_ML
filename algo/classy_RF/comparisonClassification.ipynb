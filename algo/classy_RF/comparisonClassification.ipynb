{
 "cells": [
  {
   "cell_type": "markdown",
   "metadata": {},
   "source": [
    "## Loading of data"
   ]
  },
  {
   "cell_type": "code",
   "execution_count": 1,
   "metadata": {},
   "outputs": [
    {
     "name": "stderr",
     "output_type": "stream",
     "text": [
      "C:\\Users\\marin\\Anaconda3\\lib\\site-packages\\sklearn\\ensemble\\weight_boosting.py:29: DeprecationWarning: numpy.core.umath_tests is an internal NumPy module and should not be imported. It will be removed in a future NumPy release.\n",
      "  from numpy.core.umath_tests import inner1d\n"
     ]
    }
   ],
   "source": [
    "import classyRF\n",
    "import numpy as np\n",
    "import matplotlib.pyplot as plt\n",
    "import classyRF"
   ]
  },
  {
   "cell_type": "code",
   "execution_count": 9,
   "metadata": {},
   "outputs": [
    {
     "data": {
      "text/plain": [
       "<module 'classyRF' from 'C:\\\\Users\\\\marin\\\\Desktop\\\\ML_workingGroup\\\\classy_RF\\\\classyRF.py'>"
      ]
     },
     "execution_count": 9,
     "metadata": {},
     "output_type": "execute_result"
    }
   ],
   "source": [
    "import importlib\n",
    "importlib.reload(classyRF)"
   ]
  },
  {
   "cell_type": "code",
   "execution_count": 2,
   "metadata": {},
   "outputs": [],
   "source": [
    "path = \"C:\\\\Users\\\\marin\\\\Desktop\\\\ML_workingGroup\\\\NS_dataset_NOPUBLIC\\\\\""
   ]
  },
  {
   "cell_type": "code",
   "execution_count": 10,
   "metadata": {},
   "outputs": [
    {
     "name": "stdout",
     "output_type": "stream",
     "text": [
      "loading  C:\\Users\\marin\\Desktop\\ML_workingGroup\\NS_dataset_NOPUBLIC\\ind_rec_crossvalidated.joblib\n"
     ]
    }
   ],
   "source": [
    "#Recover last session\n",
    "RF = classyRF.ClassificationRF()\n",
    "RF.loadModel(path, 'ind_rec_crossvalidated')"
   ]
  },
  {
   "cell_type": "code",
   "execution_count": 11,
   "metadata": {},
   "outputs": [],
   "source": [
    "i_m1i=1; i_m2i=2; i_x1i=3; i_x2i=4; i_mci=5; i_qi=6; i_Ri=7; i_Ci=8; \n",
    "i_m1r=9; i_m2r=10; i_x1r=11; i_x2r=12; i_mcr=13; i_qr=15; i_Rr=16; i_Cr=17;\n",
    "i_snr=18;\n",
    "injected_index = [i_m1i, i_m2i, i_x1i, i_x2i, i_mci, i_qi, i_Ri, i_Ci, i_snr]\n",
    "recovered_index = [i_m1r, i_m2r, i_x1r, i_x2r, i_mcr, i_qr, i_Rr, i_Cr, i_snr]\n",
    "independent_injected_index = [i_m1i, i_m2i, i_x1i, i_x2i, i_snr]\n",
    "independent_recovered_index = [i_m1r, i_m2r, i_x1r, i_x2r, i_snr]"
   ]
  },
  {
   "cell_type": "code",
   "execution_count": 12,
   "metadata": {},
   "outputs": [
    {
     "name": "stdout",
     "output_type": "stream",
     "text": [
      "Training and testing using:\n",
      "m1_rec\n",
      "m2_rec\n",
      "chi1_rec\n",
      "chi2_rec\n",
      "snr\n"
     ]
    }
   ],
   "source": [
    "RF.load_train_dataset(path, fname_x='train_NS.csv')\n",
    "RF.load_test_dataset(path, fname_x='test_NS.csv')\n",
    "RF.subset_features(independent_recovered_index)"
   ]
  },
  {
   "cell_type": "code",
   "execution_count": 14,
   "metadata": {},
   "outputs": [],
   "source": [
    "RF.compute_metrics()"
   ]
  },
  {
   "cell_type": "code",
   "execution_count": 42,
   "metadata": {},
   "outputs": [],
   "source": [
    "predRF = RF.test_prediction\n",
    "probRF = RF.metric_dic[\"prob\"][:,1]"
   ]
  },
  {
   "cell_type": "code",
   "execution_count": 18,
   "metadata": {},
   "outputs": [],
   "source": [
    "labelsReal = RF.labels_test"
   ]
  },
  {
   "cell_type": "code",
   "execution_count": 19,
   "metadata": {},
   "outputs": [],
   "source": [
    "Miquel = classyRF.extractData(path+\"KNN_predictions_prob_NS.csv\")"
   ]
  },
  {
   "cell_type": "code",
   "execution_count": 20,
   "metadata": {},
   "outputs": [],
   "source": [
    "predKNN = Miquel[:,1]\n",
    "probKNN = Miquel[:,2]"
   ]
  },
  {
   "cell_type": "markdown",
   "metadata": {},
   "source": [
    "The probability vectors contain the probability of saying the event is category 1"
   ]
  },
  {
   "cell_type": "markdown",
   "metadata": {},
   "source": [
    "## Compute scores"
   ]
  },
  {
   "cell_type": "code",
   "execution_count": 33,
   "metadata": {},
   "outputs": [
    {
     "name": "stdout",
     "output_type": "stream",
     "text": [
      "Total events in the test:  59999\n",
      "41710  are 1 (0.695 %),  18289 are 0 (0.305 %)\n",
      "RF predicts:\n",
      "41969  are 1 (0.699 %),  18030 are 0 (0.301 %)\n",
      "KNN predicts:\n",
      "42143  are 1 (0.702 %),  17856 are 0 (0.298 %)\n"
     ]
    }
   ],
   "source": [
    "Nevents = len(labelsReal)\n",
    "total1_real= np.count_nonzero(labelsReal)\n",
    "total0_real= Nevents - total1_real\n",
    "\n",
    "total1_RF = np.count_nonzero(predRF)\n",
    "total0_RF = Nevents - np.count_nonzero(predRF)\n",
    "\n",
    "total1_KNN = np.count_nonzero(predKNN)\n",
    "total0_KNN = Nevents - np.count_nonzero(predKNN)\n",
    "\n",
    "print(\"Total events in the test: \",Nevents)\n",
    "print(total1_real,\" are 1 ({:.3f}\".format(total1_real/Nevents), \"%), \",total0_real, \"are 0 ({:.3f}\".format(total0_real/Nevents),\"%)\")\n",
    "print(\"RF predicts:\")\n",
    "print(total1_RF,\" are 1 ({:.3f}\".format(total1_RF/Nevents), \"%), \",total0_RF, \"are 0 ({:.3f}\".format(total0_RF/Nevents),\"%)\")\n",
    "print(\"KNN predicts:\")\n",
    "print(total1_KNN,\" are 1 ({:.3f}\".format(total1_KNN/Nevents), \"%), \",total0_KNN, \"are 0 ({:.3f}\".format(total0_KNN/Nevents),\"%)\")\n"
   ]
  },
  {
   "cell_type": "markdown",
   "metadata": {},
   "source": [
    "So KNN overpredicts category 1 more than RF"
   ]
  },
  {
   "cell_type": "code",
   "execution_count": 35,
   "metadata": {},
   "outputs": [],
   "source": [
    "good0RF=0; good1RF=0; good0KNN=0; good1KNN=0;\n",
    "for i in range(0,len(labelsReal)):\n",
    "    if labelsReal[i]==0:\n",
    "        if predRF[i]==0:\n",
    "            good0RF=good0RF+1\n",
    "        if predKNN[i]==0:\n",
    "            good0KNN=good0KNN+1\n",
    "    if labelsReal[i]==1:\n",
    "        if predRF[i]==1:\n",
    "            good1RF=good1RF+1\n",
    "        if predKNN[i]==1:\n",
    "            good1KNN=good1KNN+1   "
   ]
  },
  {
   "cell_type": "code",
   "execution_count": 38,
   "metadata": {},
   "outputs": [
    {
     "name": "stdout",
     "output_type": "stream",
     "text": [
      "RF:\n",
      "Predicts correctly 0.952 % of zeros, 0.98497 % of ones. Score: 0.97478\n",
      "KNN:\n",
      "Predicts correctly 0.943 % of zeros, 0.98533 % of ones. Score: 0.97238\n"
     ]
    }
   ],
   "source": [
    "print(\"RF:\")\n",
    "print(\"Predicts correctly {:.3f}\".format(good0RF/total0_real),\"% of zeros, {:.5f}\".format(good1RF/total1_real),\"% of ones. Score: {:.5f}\".format((good0RF+good1RF)/Nevents))\n",
    "print(\"KNN:\")\n",
    "print(\"Predicts correctly {:.3f}\".format(good0KNN/total0_real),\"% of zeros, {:.5f}\".format(good1KNN/total1_real),\"% of ones. Score: {:.5f}\".format((good0KNN+good1KNN)/Nevents))"
   ]
  },
  {
   "cell_type": "markdown",
   "metadata": {},
   "source": [
    "## Probabilities:\n",
    "### When choosing wrong, what was the probability of the correct answer?"
   ]
  },
  {
   "cell_type": "code",
   "execution_count": 43,
   "metadata": {},
   "outputs": [],
   "source": [
    "RFprobIs0=[]; RFprobIs1=[]; KNNprobIs0=[]; KNNprobIs1=[]; \n",
    "for i in range(0,len(labelsReal)):\n",
    "    if labelsReal[i]==0:\n",
    "        if predRF[i]==1:\n",
    "            RFprobIs0.append(1-probRF[i])\n",
    "        if predKNN[i]==1:\n",
    "            KNNprobIs0.append(1-probKNN[i])\n",
    "    if labelsReal[i]==1:\n",
    "        if predRF[i]==0:\n",
    "            RFprobIs1.append(probRF[i])\n",
    "        if predKNN[i]==0:\n",
    "            KNNprobIs1.append(probKNN[i]) "
   ]
  },
  {
   "cell_type": "code",
   "execution_count": 66,
   "metadata": {},
   "outputs": [
    {
     "name": "stdout",
     "output_type": "stream",
     "text": [
      "When the method is wrong:\n"
     ]
    },
    {
     "data": {
      "image/png": "[encoded data removed]",
      "text/plain": [
       "<Figure size 1080x720 with 4 Axes>"
      ]
     },
     "metadata": {},
     "output_type": "display_data"
    }
   ],
   "source": [
    "print(\"When the method is wrong:\")\n",
    "fig, axs = plt.subplots(2,2, figsize=(15, 10))\n",
    "axs[0][0].scatter(np.linspace(0,len(RFprobIs0),len(RFprobIs0)),RFprobIs0, color=[1,0.5,0], s=3)\n",
    "axs[0][0].set_xlabel('cases')\n",
    "axs[0][0].set_ylabel('probability')\n",
    "axs[0][0].set_title(\"RF. Label is 0. Prob saying 0. Mean {:.2f}\".format(np.mean(RFprobIs0)))\n",
    "axs[0][1].scatter(np.linspace(0,len(RFprobIs1),len(RFprobIs1)),RFprobIs1, color=[0.2,0.4,1], s=3)\n",
    "axs[0][1].set_xlabel('casesc')\n",
    "axs[0][1].set_ylabel('probability')\n",
    "axs[0][1].set_title(\"RF. Label is 1. Prob saying 1. Mean {:.2f}\".format(np.mean(RFprobIs1)))\n",
    "axs[1][0].scatter(np.linspace(0,len(KNNprobIs0),len(KNNprobIs0)),KNNprobIs0, color=[1,0.5,0], s=3)\n",
    "axs[1][0].set_xlabel('cases')\n",
    "axs[1][0].set_ylabel('probability')\n",
    "axs[1][0].set_title(\"KNN. Label is 0. Prob saying 0. Mean {:.2f}\".format(np.mean(KNNprobIs0)))\n",
    "axs[1][1].scatter(np.linspace(0,len(KNNprobIs1),len(KNNprobIs1)),KNNprobIs1, color=[0.2,0.4,1], s=3)\n",
    "axs[1][1].set_xlabel('casesc')\n",
    "axs[1][1].set_ylabel('probability')\n",
    "axs[1][1].set_title(\"KNN. Label is 1. Prob saying 1. Mean {:.2f}\".format(np.mean(KNNprobIs1)))\n",
    "plt.subplots_adjust(wspace=1)\n",
    "\n"
   ]
  },
  {
   "cell_type": "markdown",
   "metadata": {},
   "source": [
    "When the classification is wrong, in average for label 0 the RF has higher probabilities of the event being classified correctly. When the label is 1, it is the KNN who is closer. This is because KNN tends to overestimate label 1."
   ]
  },
  {
   "cell_type": "markdown",
   "metadata": {},
   "source": [
    "## When one is wrong, what does the other say?"
   ]
  },
  {
   "cell_type": "code",
   "execution_count": 67,
   "metadata": {},
   "outputs": [],
   "source": [
    "Is0_RFbadKNNgood=0; Is0_RFgoodKNNbad=0; Is1_RFbadKNNgood=0; Is1_RFgoodKNNbad=0; \n",
    "for i in range(0,len(labelsReal)):\n",
    "    if labelsReal[i]==0:\n",
    "        if predRF[i]==1:\n",
    "            if predKNN[i]==0:\n",
    "                Is0_RFbadKNNgood=Is0_RFbadKNNgood+1\n",
    "        if predKNN[i]==1:\n",
    "            if predRF[i]==0:\n",
    "                Is0_RFgoodKNNbad=Is0_RFgoodKNNbad+1\n",
    "    if labelsReal[i]==1:\n",
    "        if predRF[i]==0:\n",
    "            if predKNN[i]==1:\n",
    "                Is1_RFbadKNNgood=Is1_RFbadKNNgood+1\n",
    "        if predKNN[i]==0:\n",
    "            if predRF[i]==1:\n",
    "                Is1_RFgoodKNNbad=Is1_RFgoodKNNbad+1\n"
   ]
  },
  {
   "cell_type": "code",
   "execution_count": 91,
   "metadata": {},
   "outputs": [
    {
     "name": "stdout",
     "output_type": "stream",
     "text": [
      "190 349 250 235\n",
      "---In probabilities---\n",
      "percentage of the 0 that RF did wrong that are done right by KNN: 0.214\n",
      "percentage of the 1 that RF did wrong that are done right by KNN: 0.399\n",
      "---\n",
      "percentage of the 0 that KNN did wrong that are done right by RF: 0.334\n",
      "percentage of the 1 that KNN did wrong that are done right by RF: 0.010\n"
     ]
    }
   ],
   "source": [
    "print(Is0_RFbadKNNgood,Is0_RFgoodKNNbad,Is1_RFbadKNNgood,Is1_RFgoodKNNbad)\n",
    "print(\"---In probabilities---\")\n",
    "print(\"percentage of the 0 that RF did wrong that are done right by KNN: {:.3f}\".format(Is0_RFbadKNNgood/(total0_real-good0RF)))\n",
    "print(\"percentage of the 1 that RF did wrong that are done right by KNN: {:.3f}\".format(Is1_RFbadKNNgood/(total1_real-good1RF)))\n",
    "print(\"---\")\n",
    "print(\"percentage of the 0 that KNN did wrong that are done right by RF: {:.3f}\".format(Is0_RFgoodKNNbad/(total0_real-good0KNN)))\n",
    "print(\"percentage of the 1 that KNN did wrong that are done right by RF: {:.3f}\".format(Is1_RFgoodKNNbad/(total1_real-good0KNN)))\n"
   ]
  },
  {
   "cell_type": "markdown",
   "metadata": {},
   "source": [
    "When the real label is 0:\n",
    "- When RF fails, KNN can correct it around 21% of the time\n",
    "- When KNN fails, RF can correct it around 33% of the time\n",
    "- Conclusion: RF can correct more KNN when label is 0, and we know from before that RF fails less at predicting zeros: trust RF here\n",
    "\n",
    "When the real label is 1:\n",
    "- When KNN fails almost always RF does too\n",
    "- When RF fails 40% of the time KNN was right\n",
    "- Conclusion: trust KNN when it says 1 (but that is most of the time...)"
   ]
  },
  {
   "cell_type": "markdown",
   "metadata": {},
   "source": [
    "## What if both methods decide together?"
   ]
  },
  {
   "cell_type": "markdown",
   "metadata": {},
   "source": [
    "### Vote equally (mean of the probabilities)"
   ]
  },
  {
   "cell_type": "code",
   "execution_count": 79,
   "metadata": {},
   "outputs": [],
   "source": [
    "newProb=(probKNN+probRF)*0.5\n",
    "newPred=[]\n",
    "for i in range(0,Nevents):\n",
    "    if newProb[i]>0.5:\n",
    "        newPred.append(1);\n",
    "    else:\n",
    "        newPred.append(0);"
   ]
  },
  {
   "cell_type": "code",
   "execution_count": 81,
   "metadata": {},
   "outputs": [
    {
     "name": "stdout",
     "output_type": "stream",
     "text": [
      "Total events in the test:  59999\n",
      "41710  are 1 (0.695 %),  18289 are 0 (0.305 %)\n",
      "RF predicts:\n",
      "41969  are 1 (0.699 %),  18030 are 0 (0.301 %)\n",
      "Score:  0.9747829130485508\n",
      "KNN predicts:\n",
      "42143  are 1 (0.702 %),  17856 are 0 (0.298 %)\n",
      "Score:  0.9723828730478842\n",
      "Join classification predicts:\n",
      "42203  are 1 (0.703 %),  17796 are 0 (0.297 %)\n",
      "Score:  0.9749829163819397\n"
     ]
    }
   ],
   "source": [
    "good0new=0; good1new=0;\n",
    "for i in range(0,len(labelsReal)):\n",
    "    if labelsReal[i]==0:\n",
    "        if newPred[i]==0:\n",
    "            good0new=good0new+1\n",
    "    if labelsReal[i]==1:\n",
    "        if newPred[i]==1:\n",
    "            good1new=good1new+1\n",
    "            \n",
    "\n",
    "total1_new = np.count_nonzero(newPred)\n",
    "total0_new = Nevents - np.count_nonzero(newPred)\n",
    "\n",
    "print(\"Total events in the test: \",Nevents)\n",
    "print(total1_real,\" are 1 ({:.3f}\".format(total1_real/Nevents), \"%), \",total0_real, \"are 0 ({:.3f}\".format(total0_real/Nevents),\"%)\")\n",
    "print(\"RF predicts:\")\n",
    "print(total1_RF,\" are 1 ({:.3f}\".format(total1_RF/Nevents), \"%), \",total0_RF, \"are 0 ({:.3f}\".format(total0_RF/Nevents),\"%)\")\n",
    "print(\"Score: \",(good0RF+good1RF)/Nevents)\n",
    "print(\"KNN predicts:\")\n",
    "print(total1_KNN,\" are 1 ({:.3f}\".format(total1_KNN/Nevents), \"%), \",total0_KNN, \"are 0 ({:.3f}\".format(total0_KNN/Nevents),\"%)\")\n",
    "print(\"Score: \",(good0KNN+good1KNN)/Nevents)\n",
    "print(\"Join classification predicts:\")\n",
    "print(total1_new,\" are 1 ({:.3f}\".format(total1_new/Nevents), \"%), \",total0_new, \"are 0 ({:.3f}\".format(total0_new/Nevents),\"%)\")\n",
    "print(\"Score: \",(good0new+good1new)/Nevents)"
   ]
  },
  {
   "cell_type": "markdown",
   "metadata": {},
   "source": [
    "The score is higher than in any of the two. It predicts even more events in class 1"
   ]
  },
  {
   "cell_type": "code",
   "execution_count": 83,
   "metadata": {},
   "outputs": [
    {
     "name": "stdout",
     "output_type": "stream",
     "text": [
      "696 377\n",
      "0 0\n"
     ]
    }
   ],
   "source": [
    "Is0_newCorrected=0; Is1_newCorrected=0; bothWrong0=0; bothWrong1=0;\n",
    "for i in range(0,len(labelsReal)):\n",
    "    if labelsReal[i]==0:\n",
    "        if predRF[i]==1 and predKNN[i]==1:\n",
    "            bothWrong0=bothWrong0+1\n",
    "            if newPred[i]==0:\n",
    "                Is0_newCorrected=Is0_newCorrected+1\n",
    "    if labelsReal[i]==1:\n",
    "        if predRF[i]==0 and predKNN[i]==0:\n",
    "            bothWrong1=bothWrong1+1\n",
    "            if newPred[i]==1:\n",
    "                Is1_newCorrected=Is1_newCorrected+1\n",
    "print(bothWrong0, bothWrong1)\n",
    "print(Is0_newCorrected, Is1_newCorrected)"
   ]
  },
  {
   "cell_type": "markdown",
   "metadata": {},
   "source": [
    "There was 696 cases where the label was 0 and both were wrong classifying. In 377 cases it was 1 and they were both wrong classifying. Combining the methods solve neither of them"
   ]
  },
  {
   "cell_type": "code",
   "execution_count": 90,
   "metadata": {},
   "outputs": [
    {
     "name": "stdout",
     "output_type": "stream",
     "text": [
      "86 104\n",
      "182 68\n",
      "152 197\n",
      "176 59\n"
     ]
    }
   ],
   "source": [
    "Is0_RFbadKNNgoodBothgood=0; Is0_RFbadKNNgoodBothbad=0;\n",
    "Is0_RFgoodKNNbadBothgood=0; Is0_RFgoodKNNbadBothbad=0;\n",
    "Is1_RFbadKNNgoodBothgood=0; Is1_RFbadKNNgoodBothbad=0;\n",
    "Is1_RFgoodKNNbadBothgood=0; Is1_RFgoodKNNbadBothbad=0;\n",
    "\n",
    "for i in range(0,len(labelsReal)):\n",
    "    if labelsReal[i]==0:\n",
    "        if predRF[i]==1:\n",
    "            if predKNN[i]==0:\n",
    "                if newPred[i]==0:\n",
    "                    Is0_RFbadKNNgoodBothgood=Is0_RFbadKNNgoodBothgood+1\n",
    "                if newPred[i]==1:\n",
    "                    Is0_RFbadKNNgoodBothbad=Is0_RFbadKNNgoodBothbad+1\n",
    "        if predRF[i]==0:\n",
    "            if predKNN[i]==1:\n",
    "                if newPred[i]==0:\n",
    "                    Is0_RFgoodKNNbadBothgood=Is0_RFgoodKNNbadBothgood+1\n",
    "                if newPred[i]==1:\n",
    "                    Is0_RFgoodKNNbadBothbad=Is0_RFgoodKNNbadBothbad+1\n",
    "    if labelsReal[i]==1:\n",
    "        if predRF[i]==0:\n",
    "            if predKNN[i]==1:\n",
    "                if newPred[i]==1:\n",
    "                    Is1_RFbadKNNgoodBothgood=Is1_RFbadKNNgoodBothgood+1\n",
    "                if newPred[i]==0:\n",
    "                    Is1_RFbadKNNgoodBothbad=Is1_RFbadKNNgoodBothbad+1\n",
    "        if predRF[i]==1:\n",
    "            if predKNN[i]==0:\n",
    "                if newPred[i]==1:\n",
    "                    Is1_RFgoodKNNbadBothgood=Is1_RFgoodKNNbadBothgood+1\n",
    "                if newPred[i]==0:\n",
    "                    Is1_RFgoodKNNbadBothbad=Is1_RFgoodKNNbadBothbad+1\n",
    "   \n",
    "\n",
    "print(Is0_RFbadKNNgoodBothgood,Is0_RFbadKNNgoodBothbad)\n",
    "print(Is1_RFbadKNNgoodBothgood,Is1_RFbadKNNgoodBothbad)\n",
    "\n",
    "print(Is0_RFgoodKNNbadBothgood,Is0_RFgoodKNNbadBothbad)\n",
    "print(Is1_RFgoodKNNbadBothgood,Is1_RFgoodKNNbadBothbad) "
   ]
  },
  {
   "cell_type": "markdown",
   "metadata": {},
   "source": [
    "When the Rf is wrong:\n",
    "- Then for label 0, there are more cases when the join decission is also wrong\n",
    "- For label 1, there are more cases when the join decission is right\n",
    "\n",
    "When the KNN is wrong:\n",
    "- For label 0, there are more cases when the join is also wrong\n",
    "- For label 1, there are more cases when the join is right\n",
    "\n",
    "In general, with the join decission more cases are classified as 1. These lead to more accuracy at saying 1 that when the methods are taking sepparately"
   ]
  },
  {
   "cell_type": "code",
   "execution_count": 92,
   "metadata": {},
   "outputs": [
    {
     "name": "stdout",
     "output_type": "stream",
     "text": [
      "---In probabilities---\n",
      "percentage of the 0 that RF did wrong that are done right by Join: 0.097\n",
      "percentage of the 1 that RF did wrong that are done right by Join: 0.290\n",
      "---\n",
      "percentage of the 0 that KNN did wrong that are done right by Join: 0.145\n",
      "percentage of the 1 that KNN did wrong that are done right by Join: 0.007\n"
     ]
    }
   ],
   "source": [
    "print(\"---In probabilities---\")\n",
    "print(\"percentage of the 0 that RF did wrong that are done right by Join: {:.3f}\".format(Is0_RFbadKNNgoodBothgood/(total0_real-good0RF)))\n",
    "print(\"percentage of the 1 that RF did wrong that are done right by Join: {:.3f}\".format(Is1_RFbadKNNgoodBothgood/(total1_real-good1RF)))\n",
    "print(\"---\")\n",
    "print(\"percentage of the 0 that KNN did wrong that are done right by Join: {:.3f}\".format(Is0_RFgoodKNNbadBothgood/(total0_real-good0KNN)))\n",
    "print(\"percentage of the 1 that KNN did wrong that are done right by Join: {:.3f}\".format(Is1_RFgoodKNNbadBothgood/(total1_real-good0KNN)))\n"
   ]
  },
  {
   "cell_type": "markdown",
   "metadata": {},
   "source": [
    "# Conclusions\n",
    "\n",
    "- RF has more accuracy for label 0, and when KNN fails to say 0, 33% of the time RF does\n",
    "- KNN can correct 40% of the fails of RF to say label 1\n",
    "- When considering the average of the probabilities between both methods to classify, the Join method corrects 14.5% of wrong 0 of KNN."
   ]
  }
 ],
 "metadata": {
  "kernelspec": {
   "display_name": "Python 3",
   "language": "python",
   "name": "python3"
  },
  "language_info": {
   "codemirror_mode": {
    "name": "ipython",
    "version": 3
   },
   "file_extension": ".py",
   "mimetype": "text/x-python",
   "name": "python",
   "nbconvert_exporter": "python",
   "pygments_lexer": "ipython3",
   "version": "3.6.5"
  }
 },
 "nbformat": 4,
 "nbformat_minor": 5
}
