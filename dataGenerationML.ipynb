{
 "cells": [
  {
   "cell_type": "code",
   "execution_count": 2,
   "id": "16028ce9-dae3-4dd0-a02b-95442aa82feb",
   "metadata": {},
   "outputs": [],
   "source": [
    "import numpy as np"
   ]
  },
  {
   "cell_type": "code",
   "execution_count": 3,
   "id": "4fe0b2d7-7e55-4643-9f7d-85675dd4c305",
   "metadata": {},
   "outputs": [],
   "source": [
    "#PREPARING DATA FOR REGRESSION\n",
    "#Introduce gaussian noise into random data to see if a regression algorithm is able to recover the original data\n",
    "np.random.seed(21) #fix random seed so we can reproduce results\n",
    "#Prepare example dataset:\n",
    "Nsample=1000 #number of data points\n",
    "dsample=5 #dimension of the data point\n",
    "    #Example: we have Nsample injections, each of them with dsample parameters estimated\n",
    "    \n",
    "y=100*np.random.random_sample((Nsample, dsample)) #Create the initial data. The 100 multiplying is to obtain data from 0 to 100 (random creates from 0 to 1)\n",
    "x=np.copy(y)\n",
    "for i in range(0,Nsample): #Add a random gaussian noise to the original data. Choose mean and width of the gaussian\n",
    "    x[i]=x[i]+np.random.normal(0.0, 30, dsample)\n",
    "\n",
    "\n",
    "#Now you train your supervised learning ML algorithm. Define it, introduce the data x with flags y\n",
    "     "
   ]
  },
  {
   "cell_type": "code",
   "execution_count": null,
   "id": "938c4fb9-fd12-474f-bfdc-d7fdf15c8f1c",
   "metadata": {},
   "outputs": [],
   "source": [
    "#Create a test case to see how your trained ML performs\n",
    "ytest=100*np.random.random_sample((dsample)) #Create a sample as before, but a single data point (of dimension dsample)\n",
    "xtest=np.copy(ytest)\n",
    "xtest=xtest+np.random.normal(0.0, 30, dsample)\n",
    "print('introduced',xtest)\n",
    "print('to be recovered',ytest)"
   ]
  },
  {
   "cell_type": "code",
   "execution_count": null,
   "id": "aa73b8f0-7792-4efe-a1d2-fe084dc68e85",
   "metadata": {},
   "outputs": [],
   "source": [
    "#Evaluate your ML\n",
    "#yresult=ml.test(xtest)    #usually to evaluate we use method.test or something similar. Look at the documentation of your function   \n",
    "print('recovered',yresult) \n",
    "#are the results good?"
   ]
  },
  {
   "cell_type": "code",
   "execution_count": null,
   "id": "d288b1b4-46d2-4dc1-bdd0-7a67db348905",
   "metadata": {},
   "outputs": [],
   "source": []
  },
  {
   "cell_type": "code",
   "execution_count": 9,
   "id": "798e714a-2d94-4081-b41b-7f475d2a0038",
   "metadata": {},
   "outputs": [],
   "source": [
    "#PREPARING DATA FOR CLASSIFICATION\n",
    "#We will generate data from two different gaussian distributions to see if we are able to tell them apart.\n",
    "np.random.seed(22) #fix random seed so we can reproduce results\n",
    "\n",
    "#Prepare example dataset:\n",
    "Nsample=10 #number of data points\n",
    "dsample=2 #dimension of the data point\n",
    "    #Example: we have Nsample injections, each of them with dsample parameters estimated\n",
    "    \n",
    "x=np.zeros((Nsample,dsample+1))\n",
    "for i in range(0,Nsample):\n",
    "    if(np.random.rand()>0.5):\n",
    "        x[i][0:dsample]=np.random.normal(0.0, 10, dsample)\n",
    "        x[i][dsample]=1\n",
    "    else:\n",
    "        x[i][0:dsample]=np.random.normal(20.0, 10, dsample)\n",
    "        x[i][dsample]=0\n",
    "    \n",
    "#Notice that the flag is inside the data point. Depending on how your ML function works, you may need to extract it\n",
    "\n",
    "#Now you train your supervised learning ML algorithm. Define it, introduce the data x with flags"
   ]
  },
  {
   "cell_type": "code",
   "execution_count": null,
   "id": "d2fa51cb-f41c-4901-ac73-d1cc5d926b39",
   "metadata": {},
   "outputs": [],
   "source": [
    "#To check how good is the classification, enter an example\n",
    "#ml.test(np.random.normal(0.0, 10, dsample))  #should belong to category 1. Does it?"
   ]
  },
  {
   "cell_type": "code",
   "execution_count": null,
   "id": "2baa830e-e1b1-4bba-815a-c561e0b4461d",
   "metadata": {},
   "outputs": [],
   "source": []
  }
 ],
 "metadata": {
  "kernelspec": {
   "display_name": "Python 3",
   "language": "python",
   "name": "python3"
  },
  "language_info": {
   "codemirror_mode": {
    "name": "ipython",
    "version": 3
   },
   "file_extension": ".py",
   "mimetype": "text/x-python",
   "name": "python",
   "nbconvert_exporter": "python",
   "pygments_lexer": "ipython3",
   "version": "3.7.8"
  }
 },
 "nbformat": 4,
 "nbformat_minor": 5
}
